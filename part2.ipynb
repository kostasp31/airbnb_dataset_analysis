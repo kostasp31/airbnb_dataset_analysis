{
  "cells": [
    {
      "cell_type": "code",
      "execution_count": null,
      "metadata": {
        "colab": {
          "base_uri": "https://localhost:8080/"
        },
        "collapsed": true,
        "id": "y6WmwyqZiEq7",
        "outputId": "a7ed29a9-0116-4ea0-a975-eebedb7ef16a"
      },
      "outputs": [
        {
          "name": "stdout",
          "output_type": "stream",
          "text": [
            "Archive:  /content/drive/MyDrive/data.zip\n",
            "   creating: data/\n",
            "   creating: data/2019/\n",
            "   creating: data/2019/april/\n",
            "  inflating: data/2019/april/calendar.csv  \n",
            "  inflating: data/2019/april/desktop.ini  \n",
            "  inflating: data/2019/april/listings.csv  \n",
            "  inflating: data/2019/april/listings0.csv  \n",
            "  inflating: data/2019/april/neighbourhoods.csv  \n",
            "  inflating: data/2019/april/neighbourhoods.geojson  \n",
            "  inflating: data/2019/april/reviews.csv  \n",
            "  inflating: data/2019/april/reviews0.csv  \n",
            "  inflating: data/2019/desktop.ini   \n",
            "   creating: data/2019/febrouary/\n",
            "  inflating: data/2019/febrouary/calendar.csv  \n",
            "  inflating: data/2019/febrouary/desktop.ini  \n",
            "  inflating: data/2019/febrouary/listings.csv  \n",
            "  inflating: data/2019/febrouary/listings0.csv  \n",
            "  inflating: data/2019/febrouary/neighbourhoods.csv  \n",
            "  inflating: data/2019/febrouary/neighbourhoods.geojson  \n",
            "  inflating: data/2019/febrouary/reviews.csv  \n",
            "  inflating: data/2019/febrouary/reviews0.csv  \n",
            "   creating: data/2019/march/\n",
            "  inflating: data/2019/march/calendar.csv  \n",
            "  inflating: data/2019/march/desktop.ini  \n",
            "  inflating: data/2019/march/listings.csv  \n",
            "  inflating: data/2019/march/listings0.csv  \n",
            "  inflating: data/2019/march/neighbourhoods.csv  \n",
            "  inflating: data/2019/march/neighbourhoods.geojson  \n",
            "  inflating: data/2019/march/reviews.csv  \n",
            "  inflating: data/2019/march/reviews0.csv  \n",
            "   creating: data/2023/\n",
            "  inflating: data/2023/desktop.ini   \n",
            "   creating: data/2023/june/\n",
            "  inflating: data/2023/june/calendar.csv  \n",
            "  inflating: data/2023/june/desktop.ini  \n",
            "  inflating: data/2023/june/listings.csv  \n",
            "  inflating: data/2023/june/listings0.csv  \n",
            "  inflating: data/2023/june/neighbourhoods.csv  \n",
            "  inflating: data/2023/june/neighbourhoods.geojson  \n",
            "  inflating: data/2023/june/reviews.csv  \n",
            "  inflating: data/2023/june/reviews0.csv  \n",
            "   creating: data/2023/march/\n",
            "  inflating: data/2023/march/calendar.csv  \n",
            "  inflating: data/2023/march/desktop.ini  \n",
            "  inflating: data/2023/march/listings.csv  \n",
            "  inflating: data/2023/march/listings0.csv  \n",
            "  inflating: data/2023/march/neighbourhoods.csv  \n",
            "  inflating: data/2023/march/neighbourhoods.geojson  \n",
            "  inflating: data/2023/march/reviews.csv  \n",
            "  inflating: data/2023/march/reviews0.csv  \n",
            "   creating: data/2023/september/\n",
            "  inflating: data/2023/september/calendar.csv  \n",
            "  inflating: data/2023/september/desktop.ini  \n",
            "  inflating: data/2023/september/listings.csv  \n",
            "  inflating: data/2023/september/listings0.csv  \n",
            "  inflating: data/2023/september/neighbourhoods.csv  \n",
            "  inflating: data/2023/september/neighbourhoods.geojson  \n",
            "  inflating: data/2023/september/reviews.csv  \n",
            "  inflating: data/2023/september/reviews0.csv  \n",
            "  inflating: data/desktop.ini        \n"
          ]
        }
      ],
      "source": [
        "!unzip /content/drive/MyDrive/data.zip"
      ]
    },
    {
      "cell_type": "code",
      "execution_count": 4,
      "metadata": {
        "colab": {
          "base_uri": "https://localhost:8080/"
        },
        "id": "3SG8X8SY-1Ge",
        "outputId": "f20bf515-46e2-4f0a-85a5-da7d59f8ad47"
      },
      "outputs": [
        {
          "name": "stdout",
          "output_type": "stream",
          "text": [
            "Mounted at /content/drive\n"
          ]
        }
      ],
      "source": [
        "from google.colab import drive\n",
        "drive.mount('/content/drive')"
      ]
    },
    {
      "cell_type": "code",
      "execution_count": 3,
      "metadata": {
        "id": "uNkFxjJP-PZa"
      },
      "outputs": [],
      "source": [
        "import pandas as pd\n",
        "import numpy as np\n",
        "import sys\n",
        "import transformers\n",
        "from transformers import pipeline\n",
        "import string\n",
        "import re\n",
        "import nltk\n",
        "import timeit\n",
        "from sklearn.model_selection import train_test_split"
      ]
    },
    {
      "cell_type": "markdown",
      "metadata": {
        "id": "E15S7WcwTOAd"
      },
      "source": [
        "#Text cleaning"
      ]
    },
    {
      "cell_type": "code",
      "execution_count": 2,
      "metadata": {
        "cellView": "form",
        "id": "GZ0g8S7kmKAP"
      },
      "outputs": [],
      "source": [
        "#@title english stopwords\n",
        "stopEnglish = [\"'ll\", \"'tis\", \"'twas\", \"'ve\", '10', '39', 'a', \"a's\", 'able', 'ableabout', 'about', 'above', 'abroad', 'abst', 'accordance', 'according', 'accordingly', 'across', 'act', 'actually', 'ad', 'added', 'adj', 'adopted', 'ae', 'af', 'affected', 'affecting', 'affects', 'after', 'afterwards', 'ag', 'again', 'against', 'ago', 'ah', 'ahead', 'ai', \"ain't\", 'aint', 'al', 'all', 'allow', 'allows', 'almost', 'alone', 'along', 'alongside', 'already', 'also', 'although', 'always', 'am', 'amid', 'amidst', 'among', 'amongst', 'amoungst', 'amount', 'an', 'and', 'announce', 'another', 'any', 'anybody', 'anyhow', 'anymore', 'anyone', 'anything', 'anyway', 'anyways', 'anywhere', 'ao', 'apart', 'apparently', 'appear', 'appreciate', 'appropriate', 'approximately', 'aq', 'ar', 'are', 'area', 'areas', 'aren', \"aren't\", 'arent', 'arise', 'around', 'arpa', 'as', 'aside', 'ask', 'asked', 'asking', 'asks', 'associated', 'at', 'au', 'auth', 'available', 'aw', 'away', 'awfully', 'az', 'b', 'ba', 'back', 'backed', 'backing', 'backs', 'backward', 'backwards', 'bb', 'bd', 'be', 'became', 'because', 'become', 'becomes', 'becoming', 'been', 'before', 'beforehand', 'began', 'begin', 'beginning', 'beginnings', 'begins', 'behind', 'being', 'beings', 'believe', 'below', 'beside', 'besides', 'best', 'better', 'between', 'beyond', 'bf', 'bg', 'bh', 'bi', 'big', 'bill', 'billion', 'biol', 'bj', 'bm', 'bn', 'bo', 'both', 'bottom', 'br', 'brief', 'briefly', 'bs', 'bt', 'but', 'buy', 'bv', 'bw', 'by', 'bz', 'c', \"c'mon\", \"c's\", 'ca', 'call', 'came', 'can', \"can't\", 'cannot', 'cant', 'caption', 'case', 'cases', 'cause', 'causes', 'cc', 'cd', 'certain', 'certainly', 'cf', 'cg', 'ch', 'changes', 'ci', 'ck', 'cl', 'clear', 'clearly', 'click', 'cm', 'cmon', 'cn', 'co', 'co.', 'com', 'come', 'comes', 'computer', 'con', 'concerning', 'consequently', 'consider', 'considering', 'contain', 'containing', 'contains', 'copy', 'corresponding', 'could', \"could've\", 'couldn', \"couldn't\", 'couldnt', 'course', 'cr', 'cry', 'cs', 'cu', 'currently', 'cv', 'cx', 'cy', 'cz', 'd', 'dare', \"daren't\", 'darent', 'date', 'de', 'dear', 'definitely', 'describe', 'described', 'despite', 'detail', 'did', 'didn', \"didn't\", 'didnt', 'differ', 'different', 'differently', 'directly', 'dj', 'dk', 'dm', 'do', 'does', 'doesn', \"doesn't\", 'doesnt', 'doing', 'don', \"don't\", 'done', 'dont', 'doubtful', 'down', 'downed', 'downing', 'downs', 'downwards', 'due', 'during', 'dz', 'e', 'each', 'early', 'ec', 'ed', 'edu', 'ee', 'effect', 'eg', 'eh', 'eight', 'eighty', 'either', 'eleven', 'else', 'elsewhere', 'empty', 'end', 'ended', 'ending', 'ends', 'enough', 'entirely', 'er', 'es', 'especially', 'et', 'et-al', 'etc', 'even', 'evenly', 'ever', 'evermore', 'every', 'everybody', 'everyone', 'everything', 'everywhere', 'ex', 'exactly', 'example', 'except', 'f', 'face', 'faces', 'fact', 'facts', 'fairly', 'far', 'farther', 'felt', 'few', 'fewer', 'ff', 'fi', 'fifteen', 'fifth', 'fifty', 'fify', 'fill', 'find', 'finds', 'fire', 'first', 'five', 'fix', 'fj', 'fk', 'fm', 'fo', 'followed', 'following', 'follows', 'for', 'forever', 'former', 'formerly', 'forth', 'forty', 'forward', 'found', 'four', 'fr', 'free', 'from', 'front', 'full', 'fully', 'further', 'furthered', 'furthering', 'furthermore', 'furthers', 'fx', 'g', 'ga', 'gave', 'gb', 'gd', 'ge', 'general', 'generally', 'get', 'gets', 'getting', 'gf', 'gg', 'gh', 'gi', 'give', 'given', 'gives', 'giving', 'gl', 'gm', 'gmt', 'gn', 'go', 'goes', 'going', 'gone', 'good', 'goods', 'got', 'gotten', 'gov', 'gp', 'gq', 'gr', 'great', 'greater', 'greatest', 'greetings', 'group', 'grouped', 'grouping', 'groups', 'gs', 'gt', 'gu', 'gw', 'gy', 'h', 'had', \"hadn't\", 'hadnt', 'half', 'happens', 'hardly', 'has', 'hasn', \"hasn't\", 'hasnt', 'have', 'haven', \"haven't\", 'havent', 'having', 'he', \"he'd\", \"he'll\", \"he's\", 'hed', 'hell', 'hello', 'help', 'hence', 'her', 'here', \"here's\", 'hereafter', 'hereby', 'herein', 'heres', 'hereupon', 'hers', 'herself', 'herse”', 'hes', 'hi', 'hid', 'high', 'higher', 'highest', 'him', 'himself', 'himse”', 'his', 'hither', 'hk', 'hm', 'hn', 'home', 'homepage', 'hopefully', 'how', \"how'd\", \"how'll\", \"how's\", 'howbeit', 'however', 'hr', 'ht', 'htm', 'html', 'http', 'hu', 'hundred', 'i', \"i'd\", \"i'll\", \"i'm\", \"i've\", 'i.e.', 'id', 'ie', 'if', 'ignored', 'ii', 'il', 'ill', 'im', 'immediate', 'immediately', 'importance', 'important', 'in', 'inasmuch', 'inc', 'inc.', 'indeed', 'index', 'indicate', 'indicated', 'indicates', 'information', 'inner', 'inside', 'insofar', 'instead', 'int', 'interest', 'interested', 'interesting', 'interests', 'into', 'invention', 'inward', 'io', 'iq', 'ir', 'is', 'isn', \"isn't\", 'isnt', 'it', \"it'd\", \"it'll\", \"it's\", 'itd', 'itll', 'its', 'itself', 'itse”', 'ive', 'j', 'je', 'jm', 'jo', 'join', 'jp', 'just', 'k', 'ke', 'keep', 'keeps', 'kept', 'keys', 'kg', 'kh', 'ki', 'kind', 'km', 'kn', 'knew', 'know', 'known', 'knows', 'kp', 'kr', 'kw', 'ky', 'kz', 'l', 'la', 'large', 'largely', 'last', 'lately', 'later', 'latest', 'latter', 'latterly', 'lb', 'lc', 'least', 'length', 'less', 'lest', 'let', \"let's\", 'lets', 'li', 'like', 'liked', 'likely', 'likewise', 'line', 'little', 'lk', 'll', 'long', 'longer', 'longest', 'look', 'looking', 'looks', 'low', 'lower', 'lr', 'ls', 'lt', 'ltd', 'lu', 'lv', 'ly', 'm', 'ma', 'made', 'mainly', 'make', 'makes', 'making', 'man', 'many', 'may', 'maybe', \"mayn't\", 'maynt', 'mc', 'md', 'me', 'mean', 'means', 'meantime', 'meanwhile', 'member', 'members', 'men', 'merely', 'mg', 'mh', 'microsoft', 'might', \"might've\", \"mightn't\", 'mightnt', 'mil', 'mill', 'million', 'mine', 'minus', 'miss', 'mk', 'ml', 'mm', 'mn', 'mo', 'more', 'moreover', 'most', 'mostly', 'move', 'mp', 'mq', 'mr', 'mrs', 'ms', 'msie', 'mt', 'mu', 'much', 'mug', 'must', \"must've\", \"mustn't\", 'mustnt', 'mv', 'mw', 'mx', 'my', 'myself', 'myse”', 'mz', 'n', 'na', 'name', 'namely', 'nay', 'nc', 'nd', 'ne', 'near', 'nearly', 'necessarily', 'necessary', 'need', 'needed', 'needing', \"needn't\", 'neednt', 'needs', 'neither', 'net', 'netscape', 'never', 'neverf', 'neverless', 'nevertheless', 'new', 'newer', 'newest', 'next', 'nf', 'ng', 'ni', 'nine', 'ninety', 'nl', 'no', 'no-one', 'nobody', 'non', 'none', 'nonetheless', 'noone', 'nor', 'normally', 'nos', 'not', 'noted', 'nothing', 'notwithstanding', 'novel', 'now', 'nowhere', 'np', 'nr', 'nu', 'null', 'number', 'numbers', 'nz', 'o', 'obtain', 'obtained', 'obviously', 'of', 'off', 'often', 'oh', 'ok', 'okay', 'old', 'older', 'oldest', 'om', 'omitted', 'on', 'once', 'one', \"one's\", 'ones', 'only', 'onto', 'open', 'opened', 'opening', 'opens', 'opposite', 'or', 'ord', 'order', 'ordered', 'ordering', 'orders', 'org', 'other', 'others', 'otherwise', 'ought', \"oughtn't\", 'oughtnt', 'our', 'ours', 'ourselves', 'out', 'outside', 'over', 'overall', 'owing', 'own', 'p', 'pa', 'page', 'pages', 'part', 'parted', 'particular', 'particularly', 'parting', 'parts', 'past', 'pe', 'per', 'perhaps', 'pf', 'pg', 'ph', 'pk', 'pl', 'place', 'placed', 'places', 'please', 'plus', 'pm', 'pmid', 'pn', 'point', 'pointed', 'pointing', 'points', 'poorly', 'possible', 'possibly', 'potentially', 'pp', 'pr', 'predominantly', 'present', 'presented', 'presenting', 'presents', 'presumably', 'previously', 'primarily', 'probably', 'problem', 'problems', 'promptly', 'proud', 'provided', 'provides', 'pt', 'put', 'puts', 'pw', 'py', 'q', 'qa', 'que', 'quickly', 'quite', 'qv', 'r', 'ran', 'rather', 'rd', 're', 'readily', 'really', 'reasonably', 'recent', 'recently', 'ref', 'refs', 'regarding', 'regardless', 'regards', 'related', 'relatively', 'research', 'reserved', 'respectively', 'resulted', 'resulting', 'results', 'right', 'ring', 'ro', 'room', 'rooms', 'round', 'ru', 'run', 'rw', 's', 'sa', 'said', 'same', 'saw', 'say', 'saying', 'says', 'sb', 'sc', 'sd', 'se', 'sec', 'second', 'secondly', 'seconds', 'section', 'see', 'seeing', 'seem', 'seemed', 'seeming', 'seems', 'seen', 'sees', 'self', 'selves', 'sensible', 'sent', 'serious', 'seriously', 'seven', 'seventy', 'several', 'sg', 'sh', 'shall', \"shan't\", 'shant', 'she', \"she'd\", \"she'll\", \"she's\", 'shed', 'shell', 'shes', 'should', \"should've\", 'shouldn', \"shouldn't\", 'shouldnt', 'show', 'showed', 'showing', 'shown', 'showns', 'shows', 'si', 'side', 'sides', 'significant', 'significantly', 'similar', 'similarly', 'since', 'sincere', 'site', 'six', 'sixty', 'sj', 'sk', 'sl', 'slightly', 'sm', 'small', 'smaller', 'smallest', 'sn', 'so', 'some', 'somebody', 'someday', 'somehow', 'someone', 'somethan', 'something', 'sometime', 'sometimes', 'somewhat', 'somewhere', 'soon', 'sorry', 'specifically', 'specified', 'specify', 'specifying', 'sr', 'st', 'state', 'states', 'still', 'stop', 'strongly', 'su', 'sub', 'substantially', 'successfully', 'such', 'sufficiently', 'suggest', 'sup', 'sure', 'sv', 'sy', 'system', 'sz', 't', \"t's\", 'take', 'taken', 'taking', 'tc', 'td', 'tell', 'ten', 'tends', 'test', 'text', 'tf', 'tg', 'th', 'than', 'thank', 'thanks', 'thanx', 'that', \"that'll\", \"that's\", \"that've\", 'thatll', 'thats', 'thatve', 'the', 'their', 'theirs', 'them', 'themselves', 'then', 'thence', 'there', \"there'd\", \"there'll\", \"there're\", \"there's\", \"there've\", 'thereafter', 'thereby', 'thered', 'therefore', 'therein', 'therell', 'thereof', 'therere', 'theres', 'thereto', 'thereupon', 'thereve', 'these', 'they', \"they'd\", \"they'll\", \"they're\", \"they've\", 'theyd', 'theyll', 'theyre', 'theyve', 'thick', 'thin', 'thing', 'things', 'think', 'thinks', 'third', 'thirty', 'this', 'thorough', 'thoroughly', 'those', 'thou', 'though', 'thoughh', 'thought', 'thoughts', 'thousand', 'three', 'throug', 'through', 'throughout', 'thru', 'thus', 'til', 'till', 'tip', 'tis', 'tj', 'tk', 'tm', 'tn', 'to', 'today', 'together', 'too', 'took', 'top', 'toward', 'towards', 'tp', 'tr', 'tried', 'tries', 'trillion', 'truly', 'try', 'trying', 'ts', 'tt', 'turn', 'turned', 'turning', 'turns', 'tv', 'tw', 'twas', 'twelve', 'twenty', 'twice', 'two', 'tz', 'u', 'ua', 'ug', 'uk', 'um', 'un', 'under', 'underneath', 'undoing', 'unfortunately', 'unless', 'unlike', 'unlikely', 'until', 'unto', 'up', 'upon', 'ups', 'upwards', 'us', 'use', 'used', 'useful', 'usefully', 'usefulness', 'uses', 'using', 'usually', 'uucp', 'uy', 'uz', 'v', 'va', 'value', 'various', 'vc', 've', 'versus', 'very', 'vg', 'vi', 'via', 'viz', 'vn', 'vol', 'vols', 'vs', 'vu', 'w', 'want', 'wanted', 'wanting', 'wants', 'was', 'wasn', \"wasn't\", 'wasnt', 'way', 'ways', 'we', \"we'd\", \"we'll\", \"we're\", \"we've\", 'web', 'webpage', 'website', 'wed', 'welcome', 'well', 'wells', 'went', 'were', 'weren', \"weren't\", 'werent', 'weve', 'wf', 'what', \"what'd\", \"what'll\", \"what's\", \"what've\", 'whatever', 'whatll', 'whats', 'whatve', 'when', \"when'd\", \"when'll\", \"when's\", 'whence', 'whenever', 'where', \"where'd\", \"where'll\", \"where's\", 'whereafter', 'whereas', 'whereby', 'wherein', 'wheres', 'whereupon', 'wherever', 'whether', 'which', 'whichever', 'while', 'whilst', 'whim', 'whither', 'who', \"who'd\", \"who'll\", \"who's\", 'whod', 'whoever', 'whole', 'wholl', 'whom', 'whomever', 'whos', 'whose', 'why', \"why'd\", \"why'll\", \"why's\", 'widely', 'width', 'will', 'willing', 'wish', 'with', 'within', 'without', 'won', \"won't\", 'wonder', 'wont', 'words', 'work', 'worked', 'working', 'works', 'world', 'would', \"would've\", 'wouldn', \"wouldn't\", 'wouldnt', 'ws', 'www', 'x', 'y', 'ye', 'year', 'years', 'yes', 'yet', 'you', \"you'd\", \"you'll\", \"you're\", \"you've\", 'youd', 'youll', 'young', 'younger', 'youngest', 'your', 'youre', 'yours', 'yourself', 'yourselves', 'youve', 'yt', 'yu', 'z', 'za', 'zero', 'zm', 'z', 'ain', 'daren', 'hadn', 'herse', 'himse', 'itse', 'mayn', 'mightn', 'mon', 'mustn', 'myse', 'needn', 'oughtn', 'shan']"
      ]
    },
    {
      "cell_type": "code",
      "execution_count": null,
      "metadata": {
        "id": "0kyFgs3VmMgX"
      },
      "outputs": [],
      "source": [
        "stop = stopEnglish  # English stopWords"
      ]
    },
    {
      "cell_type": "code",
      "execution_count": null,
      "metadata": {
        "id": "jl85khxsgpQ7"
      },
      "outputs": [],
      "source": [
        "def text_normalization(df, columnName, removeTags=False):\n",
        "  # NaN values are replaced with empty string\n",
        "  df[columnName] = df[columnName].fillna('')\n",
        "\n",
        "  # Remove URLs\n",
        "  url_pattern = re.compile(r'https?://\\S+|www\\.\\S+')  #Regex pattern for urls\n",
        "  def removeURLs(text, replacement_text=''):\n",
        "      text_without_urls = url_pattern.sub(replacement_text, text)\n",
        "      return text_without_urls\n",
        "\n",
        "  df[columnName] = df[columnName].apply(removeURLs)\n",
        "\n",
        "  if removeTags:  # Needed only in 2023 comments\n",
        "    br_pattern = re.compile(r'(<|&lt;)br\\s*\\/*(>|&gt;)')\n",
        "    def removeBRs(text, replacement_text=''):\n",
        "      # erase <br>, <br/> etc...\n",
        "      text_without_brs = br_pattern.sub(replacement_text, text)\n",
        "      return text_without_brs\n",
        "\n",
        "    b_pattern = re.compile(r'<\\s*\\/?\\s*b\\s*\\/?\\s*>')\n",
        "    def removeBs(text, replacement_text=''):\n",
        "      # erase <b>, </b>, etc...\n",
        "      text_without_bs = b_pattern.sub(replacement_text, text)\n",
        "      return text_without_bs\n",
        "\n",
        "    df[columnName] = df[columnName].apply(removeBRs)\n",
        "    df[columnName] = df[columnName].apply(removeBs)\n",
        "\n",
        "\n",
        "  # Define the regular expression to match all non-English characters\n",
        "  regex = re.compile(r'[^a-zA-Z\\s]')\n",
        "\n",
        "  # Remove all characters except English letters\n",
        "  df[columnName] = df[columnName].apply(lambda x: regex.sub('', x) if isinstance(x, str) else x)\n",
        "\n",
        "  # To lowercase\n",
        "  df[columnName] = df[columnName].str.lower()\n",
        "\n",
        "  # Remove stopWords\n",
        "  df[columnName] = df[columnName].apply(lambda x: ' '.join([w for w in x.split() if w not in (stop)]))\n",
        "\n",
        "  df = df.dropna()"
      ]
    },
    {
      "cell_type": "code",
      "execution_count": null,
      "metadata": {
        "id": "BZUceadLirAw"
      },
      "outputs": [],
      "source": [
        "rev_19_feb = pd.read_csv('data/2019/febrouary/reviews.csv')\n",
        "rev_19_mar = pd.read_csv('data/2019/march/reviews.csv')\n",
        "rev_19_apr = pd.read_csv('data/2019/april/reviews.csv')\n",
        "rev_2019 = pd.concat([rev_19_feb, rev_19_mar, rev_19_apr], ignore_index=True)\n",
        "rev_2019 = rev_2019[['id', 'comments']]\n",
        "rev_2019 = rev_2019.drop_duplicates(subset=['comments'])  # no duplicate comments\n",
        "\n",
        "text_normalization(rev_2019, 'comments')  # clean text\n",
        "\n",
        "rev_2019.to_csv('drive/MyDrive/comments2019.csv', index=False)"
      ]
    },
    {
      "cell_type": "code",
      "execution_count": null,
      "metadata": {
        "id": "nQC3vru2poG3"
      },
      "outputs": [],
      "source": [
        "rev_23_mar = pd.read_csv('data/2023/march/reviews.csv') # All reviews to one file\n",
        "rev_23_jun = pd.read_csv('data/2023/june/reviews.csv')\n",
        "rev_23_sep = pd.read_csv('data/2023/september/reviews.csv')\n",
        "rev_2023 = pd.concat([rev_23_mar, rev_23_jun, rev_23_sep], ignore_index=True)\n",
        "rev_2023 = rev_2023[['id', 'comments']]\n",
        "rev_2023 = rev_2023.drop_duplicates(subset=['comments'])  # no duplicate comments\n",
        "\n",
        "text_normalization(rev_2023, 'comments', True)  # clean text\n",
        "\n",
        "rev_2023.to_csv('drive/MyDrive/comments2023.csv', index=False)"
      ]
    },
    {
      "cell_type": "markdown",
      "metadata": {
        "id": "O8hqQsRgaP-B"
      },
      "source": [
        "Διάβασμα των καθαρισμένων δεδομένων"
      ]
    },
    {
      "cell_type": "code",
      "execution_count": null,
      "metadata": {
        "id": "QA2xgjgIpa8s"
      },
      "outputs": [],
      "source": [
        "comm_2019 = pd.read_csv('drive/MyDrive/comments2019.csv')\n",
        "comm_2023 = pd.read_csv('drive/MyDrive/comments2023.csv', lineterminator='\\n')\n",
        "comm_2019 = comm_2019.dropna()\n",
        "comm_2023 = comm_2023.dropna()"
      ]
    },
    {
      "cell_type": "markdown",
      "metadata": {
        "id": "Kz51JkQRTKzG"
      },
      "source": [
        "#Study over time (Ερώτημα 1)"
      ]
    },
    {
      "cell_type": "code",
      "execution_count": null,
      "metadata": {
        "colab": {
          "base_uri": "https://localhost:8080/",
          "height": 357,
          "referenced_widgets": [
            "0b4456d3220b4e2e95eb2aa196002724",
            "09eaae1bd6fe4f6ca80bc94d2e878591",
            "9c71f282158340838b0283bce24642a9",
            "1cbb2a2b2db7459588549c3253274ee1",
            "7400072c8e344658961f446cf8b00c6b",
            "2a1e04722b1d47878fdd863573984d71",
            "19725349a2bb4bc788d853dfc7a48524",
            "eee4acbd4cae4d289988f042a7ab9d99",
            "de2b56463351420e806fd67d53bf636d",
            "24a4d5d50426482a9cb8f1d0ee29c07f",
            "d1b44ad2cff24612875bcb4c33666270",
            "52087eb81d6c443ea813fd4941ea0438",
            "bff04468775149a6b539d7d2133574e4",
            "a425e8185e964333a29b81e1e71ee813",
            "9efee3a7c8934d77b1377b421e9ec11d",
            "08506a64203448d59e72005cba5f9b7d",
            "c6c2fff469904ae9ad8f04bc4bcad3af",
            "a8ad2bb7417f4655981d8e148f3ed472",
            "408b0c2f625448abab760cdb2aced0be",
            "995289942cd04e40a3f89c1f80179617",
            "654b64fd7a964e92ab8d4c7784ca81ad",
            "dcd28c23f1824afd92ce9be9cca21b7b",
            "faff5791ba19485a878e47a2f1dcee99",
            "cad4e693f980442cb013b676fce72029",
            "49eb4727326e495782cc6b2b77972efd",
            "3b4a59316b4a47e3959c04f59dabf298",
            "d8235d7aefd74ea9af403930932436aa",
            "bd0e1079340a44489c33da25d919a0a3",
            "c9aa942afd374f82b8a9001e85ae5e47",
            "6c3e237f9d48409993d0ca828d4e54bc",
            "1b5a1f45c7834f1ca13b4a69ee957bf7",
            "21e6251f7880446ca2c0e1fbfed0c018",
            "ab0ca8c0a6d647a9b48b2667e77af938",
            "e2b60e035aa44144b100a8577a6a48e9",
            "9c8e1b72b583423a8281f6300bcfd417",
            "f9a422bd99fd464f852afa09484e8a09",
            "18bd1f5fdc9a490f8afe955a393bf850",
            "167337dcd4ea4841935a7328374a86b3",
            "b50987897546428d8509753b2667e6ea",
            "82730f2264b54de09a1cf4c9968fed1c",
            "7ee8c475fe664882922b528a3e6bfab2",
            "fba578b4055d4a9da5030660f988a476",
            "4ed8b08a36c149e2843be893312a7b1f",
            "a74d7419343b41b99be6216d365140aa",
            "e4781dde4793469db47c41ecbab46fdc",
            "b8c5417f71f4411f87976f9c776a1299",
            "18e153d1f6c24c38ad81d782d3c9509a",
            "cc3b595fa7c04a09a799786d647f2562",
            "49b7cc2b49744f539075780e4f44903f",
            "bef295e69419463ab88fd2ee2dfd63e6",
            "8a387c80353e4032b9722efbd71d4fd2",
            "288c6b9cce9f4b82989492dd48976b80",
            "d45748a45a8f4697b46596a5e73397f9",
            "955e26f9e0c6455f8ed26bee9c6abbc0",
            "0dd0f68dea3d481d910337fa8c713054"
          ]
        },
        "id": "qrRS53PT-sAZ",
        "outputId": "7b97ed64-63a0-41f1-9a39-07c2c4e8826f"
      },
      "outputs": [
        {
          "name": "stderr",
          "output_type": "stream",
          "text": [
            "/usr/local/lib/python3.10/dist-packages/huggingface_hub/utils/_token.py:89: UserWarning: \n",
            "The secret `HF_TOKEN` does not exist in your Colab secrets.\n",
            "To authenticate with the Hugging Face Hub, create a token in your settings tab (https://huggingface.co/settings/tokens), set it as secret in your Google Colab and restart your session.\n",
            "You will be able to reuse this secret in all of your notebooks.\n",
            "Please note that authentication is recommended but still optional to access public models or datasets.\n",
            "  warnings.warn(\n"
          ]
        },
        {
          "data": {
            "application/vnd.jupyter.widget-view+json": {
              "model_id": "0b4456d3220b4e2e95eb2aa196002724",
              "version_major": 2,
              "version_minor": 0
            },
            "text/plain": [
              "config.json:   0%|          | 0.00/929 [00:00<?, ?B/s]"
            ]
          },
          "metadata": {},
          "output_type": "display_data"
        },
        {
          "data": {
            "application/vnd.jupyter.widget-view+json": {
              "model_id": "52087eb81d6c443ea813fd4941ea0438",
              "version_major": 2,
              "version_minor": 0
            },
            "text/plain": [
              "pytorch_model.bin:   0%|          | 0.00/501M [00:00<?, ?B/s]"
            ]
          },
          "metadata": {},
          "output_type": "display_data"
        },
        {
          "name": "stderr",
          "output_type": "stream",
          "text": [
            "Some weights of the model checkpoint at cardiffnlp/twitter-roberta-base-sentiment-latest were not used when initializing RobertaForSequenceClassification: ['roberta.pooler.dense.bias', 'roberta.pooler.dense.weight']\n",
            "- This IS expected if you are initializing RobertaForSequenceClassification from the checkpoint of a model trained on another task or with another architecture (e.g. initializing a BertForSequenceClassification model from a BertForPreTraining model).\n",
            "- This IS NOT expected if you are initializing RobertaForSequenceClassification from the checkpoint of a model that you expect to be exactly identical (initializing a BertForSequenceClassification model from a BertForSequenceClassification model).\n"
          ]
        },
        {
          "data": {
            "application/vnd.jupyter.widget-view+json": {
              "model_id": "faff5791ba19485a878e47a2f1dcee99",
              "version_major": 2,
              "version_minor": 0
            },
            "text/plain": [
              "vocab.json:   0%|          | 0.00/899k [00:00<?, ?B/s]"
            ]
          },
          "metadata": {},
          "output_type": "display_data"
        },
        {
          "data": {
            "application/vnd.jupyter.widget-view+json": {
              "model_id": "e2b60e035aa44144b100a8577a6a48e9",
              "version_major": 2,
              "version_minor": 0
            },
            "text/plain": [
              "merges.txt:   0%|          | 0.00/456k [00:00<?, ?B/s]"
            ]
          },
          "metadata": {},
          "output_type": "display_data"
        },
        {
          "data": {
            "application/vnd.jupyter.widget-view+json": {
              "model_id": "e4781dde4793469db47c41ecbab46fdc",
              "version_major": 2,
              "version_minor": 0
            },
            "text/plain": [
              "special_tokens_map.json:   0%|          | 0.00/239 [00:00<?, ?B/s]"
            ]
          },
          "metadata": {},
          "output_type": "display_data"
        }
      ],
      "source": [
        "classifier = pipeline('sentiment-analysis', model=\"cardiffnlp/twitter-roberta-base-sentiment-latest\", tokenizer=\"cardiffnlp/twitter-roberta-base-sentiment-latest\", max_length=512, truncation=True)"
      ]
    },
    {
      "cell_type": "markdown",
      "metadata": {
        "id": "7GUVplb55Vdw"
      },
      "source": [
        "Οι κριτικές έχουν στατιστικά πολύ λίγες αρνητικές κριτικές. Για την αρτιότερη εκπαίδεση του μοντέλου παρακάτω, το βήμα της εκπαίδευσης παρακάτω, φιλτράρουμε ένα μέρος των κριτικών ώστε να περιέχει κάποιες από αυτές τις αρνητικές λέξεις, δηλαδή (πιθανότατα) να είναι αρντική."
      ]
    },
    {
      "cell_type": "code",
      "execution_count": 76,
      "metadata": {
        "id": "1OnCGFMdAdyL"
      },
      "outputs": [],
      "source": [
        "negative_words = [\n",
        "    \"dirty\", \"unfriendly\", \"unsafe\", \"inconvenient\", \"bad\", \"smelly\", \"bugs\",\n",
        "    \"mold\", \"damp\", \"uncomfortable\", \"faulty\", \"unreliable\",\n",
        "    \"overpriced\", \"unpleasant\", \"filthy\", \"stained\",\n",
        "    \"infested\", \"rude\", \"leaky\", \"sticky\",\n",
        "    \"cramped\", \"problematic\", \"awful\", \"terrible\",\n",
        "    \"horrible\", \"disgusting\", \"gross\", \"dingy\", \"dreary\", \"lackluster\"\n",
        "]\n",
        "\n",
        "# Create a function to check if a review contains any negative words\n",
        "def contains_negative_words(review):\n",
        "    return any(word in review for word in negative_words)"
      ]
    },
    {
      "cell_type": "markdown",
      "metadata": {
        "id": "ZiJHCRGmkivk"
      },
      "source": [
        "2019 - 5000 τυχαίες κριτικές και το πολύ 5000 κριτικές που περιέχουν αρνητικές λέξεις"
      ]
    },
    {
      "cell_type": "code",
      "execution_count": null,
      "metadata": {
        "collapsed": true,
        "id": "EBdU1oOFvvLi"
      },
      "outputs": [],
      "source": [
        "sample_2019 = comm_2019.sample(5000)  # 5000 random reviews\n",
        "\n",
        "# Filter the DataFrame to get only the reviews with negative words\n",
        "negative_2019 = comm_2019[comm_2019['comments'].apply(contains_negative_words)]\n",
        "negative_2019 = negative_2019.sample(5000)  # 5000 random bad reviews (not all will actually be bad)\n",
        "\n",
        "sample_2019.reset_index(inplace=True, drop=True)\n",
        "negative_2019.reset_index(inplace=True, drop=True)\n",
        "\n",
        "tic = timeit.default_timer()\n",
        "res1 = classifier(sample_2019['comments'].to_list())  # get the sentiment of each review\n",
        "res2 = classifier(negative_2019['comments'].to_list())\n",
        "toc = timeit.default_timer()\n",
        "\n",
        "i=0\n",
        "sample_2019['sentiment'] = ''  # Create column 'sentiment'\n",
        "negative_2019['sentiment'] = ''\n",
        "for col in sample_2019.iterrows(): # Assign the label to the column 'sentiment'\n",
        "  sample_2019['sentiment'].loc[sample_2019['sentiment'].index == i] = res1[i]['label']\n",
        "  i+=1\n",
        "\n",
        "i=0\n",
        "for col in negative_2019.iterrows():  # Create the same column in 'negative' reviews\n",
        "  negative_2019['sentiment'].loc[negative_2019['sentiment'].index == i] = res2[i]['label']\n",
        "  i+=1\n",
        "\n",
        "negative_2019 = negative_2019.loc[negative_2019['sentiment'] == 'negative'] # from negative_2019 (potentially nagative) choose only those that are really negative\n",
        "sample_2019 = pd.concat([sample_2019, negative_2019], ignore_index=True, sort=False)\n",
        "sample_2019.to_csv('drive/MyDrive/comments2019_sentiment.csv', index=False)"
      ]
    },
    {
      "cell_type": "code",
      "execution_count": null,
      "metadata": {
        "colab": {
          "base_uri": "https://localhost:8080/"
        },
        "id": "0J8meROWz03n",
        "outputId": "29b54565-e67f-4b61-9f46-a4966f3f8a0a"
      },
      "outputs": [
        {
          "name": "stdout",
          "output_type": "stream",
          "text": [
            "Time to analyse: 2415.8473699919996\n"
          ]
        }
      ],
      "source": [
        "print('Time to analyse:', toc - tic)"
      ]
    },
    {
      "cell_type": "markdown",
      "metadata": {
        "id": "c7lENn6swgg8"
      },
      "source": [
        "2023 - 5000 τυχαίες κριτικές και το πολύ 5000 κριτικές που περιέχουν αρνητικές λέξεις"
      ]
    },
    {
      "cell_type": "code",
      "execution_count": null,
      "metadata": {
        "collapsed": true,
        "id": "lkC4Sb0ektn5"
      },
      "outputs": [],
      "source": [
        "sample_2023 = comm_2023.sample(5000)  # 5000 random reviews\n",
        "\n",
        "# Filter the DataFrame to get only the reviews with negative words\n",
        "negative_2023 = comm_2023[comm_2023['comments'].apply(contains_negative_words)]\n",
        "negative_2023 = negative_2023.sample(5000)  # 5000 random bad reviews (not all will actually be bad)\n",
        "\n",
        "sample_2023.reset_index(inplace=True, drop=True)\n",
        "negative_2023.reset_index(inplace=True, drop=True)\n",
        "\n",
        "tic = timeit.default_timer()\n",
        "res1 = classifier(sample_2023['comments'].to_list())  # get the sentiment of each review\n",
        "res2 = classifier(negative_2023['comments'].to_list())\n",
        "toc = timeit.default_timer()\n",
        "\n",
        "i=0\n",
        "sample_2023['sentiment'] = ''  # Create column 'sentiment'\n",
        "negative_2023['sentiment'] = ''\n",
        "for col in sample_2023.iterrows(): # Assign the label to the column 'sentiment'\n",
        "  sample_2023['sentiment'].loc[sample_2023['sentiment'].index == i] = res1[i]['label']\n",
        "  i+=1\n",
        "\n",
        "i=0\n",
        "for col in negative_2023.iterrows():  # Create the same column in 'negative' reviews\n",
        "  negative_2023['sentiment'].loc[negative_2023['sentiment'].index == i] = res2[i]['label']\n",
        "  i+=1\n",
        "\n",
        "negative_2023 = negative_2023.loc[negative_2023['sentiment'] == 'negative'] # from negative_2023 (potentially nagative) choose only those that are really negative\n",
        "sample_2023 = pd.concat([sample_2023, negative_2023], ignore_index=True, sort=False)\n",
        "sample_2023.to_csv('drive/MyDrive/comments2023_sentiment.csv', index=False)"
      ]
    },
    {
      "cell_type": "code",
      "execution_count": null,
      "metadata": {
        "colab": {
          "base_uri": "https://localhost:8080/"
        },
        "id": "_BOirFykz3Se",
        "outputId": "e9b95241-7b0c-42d2-bcbc-14f1d57ca827"
      },
      "outputs": [
        {
          "name": "stdout",
          "output_type": "stream",
          "text": [
            "Time to analyse: 2321.7323820389993\n"
          ]
        }
      ],
      "source": [
        "print('Time to analyse:', toc - tic)"
      ]
    },
    {
      "cell_type": "markdown",
      "metadata": {
        "id": "pF8tz_Wd7cVK"
      },
      "source": [
        "Διάβασμα αρχείων με επισημειωμένες κριτικές"
      ]
    },
    {
      "cell_type": "code",
      "execution_count": null,
      "metadata": {
        "id": "NXbd6tqmonFy"
      },
      "outputs": [],
      "source": [
        "sample_2019 = pd.read_csv('drive/MyDrive/comments2019_sentiment.csv')\n",
        "sample_2023 = pd.read_csv('drive/MyDrive/comments2023_sentiment.csv')"
      ]
    },
    {
      "cell_type": "code",
      "execution_count": null,
      "metadata": {
        "colab": {
          "base_uri": "https://localhost:8080/",
          "height": 901
        },
        "id": "khZJfWZpKjre",
        "outputId": "04445366-58ab-44ba-d4e6-40ca5c35d2d6"
      },
      "outputs": [
        {
          "data": {
            "image/png": "[encoded data removed]",
            "text/plain": [
              "<Figure size 640x480 with 1 Axes>"
            ]
          },
          "metadata": {},
          "output_type": "display_data"
        },
        {
          "data": {
            "image/png": "[encoded data removed]",
            "text/plain": [
              "<Figure size 640x480 with 1 Axes>"
            ]
          },
          "metadata": {},
          "output_type": "display_data"
        }
      ],
      "source": [
        "# Group by 'sentiment' and count occurrences\n",
        "sentiment_counts_19 = sample_2019.groupby('sentiment').size()\n",
        "counts_df_19 = pd.DataFrame(sentiment_counts_19, columns=['frequency'])\n",
        "counts_df_19.reset_index(inplace=True)\n",
        "\n",
        "sentiment_counts_23 = sample_2023.groupby('sentiment').size()\n",
        "counts_df_23 = pd.DataFrame(sentiment_counts_23, columns=['frequency'])\n",
        "counts_df_23.reset_index(inplace=True)\n",
        "\n",
        "ax = counts_df_19.plot.bar(x='sentiment', y='frequency', rot=0, color='#F96167', xlabel=\"Sentiment\", ylabel=\"Number of Reviews\")\n",
        "ax.set_facecolor('#F9E795')\n",
        "ax.legend(loc='upper left')\n",
        "\n",
        "for p in ax.patches:  # print counts over bars\n",
        "    ax.annotate(str(p.get_height()), (p.get_x() * 1.005, p.get_height() * 1.005))\n",
        "\n",
        "ax = counts_df_23.plot.bar(x='sentiment', y='frequency', rot=0, color='#F96167', xlabel=\"Sentiment\", ylabel=\"Number of Reviews\")\n",
        "ax.set_facecolor('#F9E795')\n",
        "ax.legend(loc='upper left')\n",
        "\n",
        "for p in ax.patches:\n",
        "    ax.annotate(str(p.get_height()), (p.get_x() * 1.005, p.get_height() * 1.005))"
      ]
    },
    {
      "cell_type": "markdown",
      "metadata": {
        "id": "uKqXZPqydqHI"
      },
      "source": [
        "#Sentiment Analysis (Ερώτημα 2)"
      ]
    },
    {
      "cell_type": "code",
      "execution_count": 81,
      "metadata": {
        "colab": {
          "base_uri": "https://localhost:8080/"
        },
        "id": "3X0zsKRUdkv3",
        "outputId": "0c77e323-f514-452f-e1a0-91a8167f2ad2"
      },
      "outputs": [
        {
          "data": {
            "text/plain": [
              "(11841, 3)"
            ]
          },
          "execution_count": 81,
          "metadata": {},
          "output_type": "execute_result"
        }
      ],
      "source": [
        "# Read cleaned data from file\n",
        "sample_2023 = pd.read_csv('drive/MyDrive/comments2023_sentiment.csv')\n",
        "sample_2019 = pd.read_csv('drive/MyDrive/comments2019_sentiment.csv')\n",
        "\n",
        "sample = pd.concat([sample_2023, sample_2019], ignore_index=True, sort=False)\n",
        "sample.drop_duplicates(subset='id')\n",
        "sample.shape"
      ]
    },
    {
      "cell_type": "code",
      "execution_count": 82,
      "metadata": {
        "collapsed": true,
        "id": "ooSwqJ5mc1s5"
      },
      "outputs": [],
      "source": [
        "from sklearn.model_selection import train_test_split\n",
        "comm_train, comm_test, comm_y_train, comm_y_test = train_test_split(sample['comments'], sample['sentiment'], test_size=0.2, random_state=42)   # split data to a test (20%) and train (80%) files"
      ]
    },
    {
      "cell_type": "markdown",
      "metadata": {
        "id": "aX_K2QaYYFqE"
      },
      "source": [
        "Υπολογισμός των tf-idf του train  και του test"
      ]
    },
    {
      "cell_type": "code",
      "execution_count": 83,
      "metadata": {
        "id": "9R_BGN_qv6Xp"
      },
      "outputs": [],
      "source": [
        "from sklearn.feature_extraction.text import TfidfVectorizer\n",
        "tfidf_vectorizer = TfidfVectorizer(max_df=1.0, min_df=1, max_features=100, stop_words=stopEnglish, ngram_range=(1,1))\n",
        "\n",
        "tfidf_train = tfidf_vectorizer.fit_transform(comm_train) # Create different tfidf tables\n",
        "tfidf_test = tfidf_vectorizer.fit_transform(comm_test)"
      ]
    },
    {
      "cell_type": "code",
      "execution_count": 84,
      "metadata": {
        "colab": {
          "base_uri": "https://localhost:8080/"
        },
        "id": "eMTX3nBD7Vnh",
        "outputId": "7df85e49-6d1c-418a-b48a-20b03a411983"
      },
      "outputs": [
        {
          "name": "stderr",
          "output_type": "stream",
          "text": [
            "[nltk_data] Downloading package punkt to /root/nltk_data...\n",
            "[nltk_data]   Package punkt is already up-to-date!\n"
          ]
        }
      ],
      "source": [
        "# Tokenization\n",
        "import nltk\n",
        "nltk.download('punkt')\n",
        "from nltk.tokenize import word_tokenize\n",
        "\n",
        "# tokenization: every sentence becomes a list of its words\n",
        "comm_train = comm_train.apply(nltk.word_tokenize)\n",
        "comm_test = comm_test.apply(nltk.word_tokenize)"
      ]
    },
    {
      "cell_type": "markdown",
      "metadata": {
        "id": "I8rkW7YcX7wT"
      },
      "source": [
        "Υπολογισμός των word embeddings: για να χρησιμοποιηθούν αργότερα από τους ταξινομητές, πρέπει να τα μετατρέψουμε σε δισδιάστατα διανύσματα, παίρνοντας τον μέσο όρο των διανυσμάτων των λέξεων σε κάθε πρόταση"
      ]
    },
    {
      "cell_type": "code",
      "execution_count": 85,
      "metadata": {
        "id": "GvgvyPy45K-J"
      },
      "outputs": [],
      "source": [
        "from gensim.models import Word2Vec\n",
        "import gensim\n",
        "\n",
        "word_embeddings_train = gensim.models.Word2Vec(min_count=1, vector_size=100, window=5)\n",
        "word_embeddings_test = gensim.models.Word2Vec(min_count=1, vector_size=100, window=5)\n",
        "\n",
        "word_embeddings_train.build_vocab(comm_train)\n",
        "word_embeddings_test.build_vocab(comm_test)\n",
        "\n",
        "word_embeddings_train.train(comm_train, total_examples= len(comm_train), epochs=22)\n",
        "word_embeddings_test.train(comm_test, total_examples= len(comm_test), epochs=22)\n",
        "\n",
        "# average vector of a sentence\n",
        "def average_vector(sentence, model):\n",
        "    vectors = [model.wv[word] for word in sentence if word in model.wv]\n",
        "    return np.mean(vectors, axis=0)\n",
        "\n",
        "word_embeddings_train = np.array([average_vector(sentence, word_embeddings_train) for sentence in comm_train])\n",
        "word_embeddings_test = np.array([average_vector(sentence, word_embeddings_test) for sentence in comm_test])"
      ]
    },
    {
      "cell_type": "markdown",
      "metadata": {
        "id": "XUaNd5Mp-1Zm"
      },
      "source": [
        "Αποθήκευση σε *.pkl αρχεία"
      ]
    },
    {
      "cell_type": "code",
      "execution_count": 86,
      "metadata": {
        "id": "25Ym5P5K-03-"
      },
      "outputs": [],
      "source": [
        "import pickle\n",
        "\n",
        "# create *.pkl files for the tfidf and the word_embeddings of each set of comments\n",
        "tfidf_train_file = open('drive/MyDrive/tfidf_train.pkl', 'wb')\n",
        "pickle.dump(tfidf_train, tfidf_train_file)\n",
        "tfidf_train_file.close()\n",
        "\n",
        "tfidf_test_file = open('drive/MyDrive/tfidf_test.pkl', 'wb')\n",
        "pickle.dump(tfidf_test, tfidf_test_file)\n",
        "tfidf_test_file.close()\n",
        "\n",
        "word_embeddings_test_file = open('drive/MyDrive/word_emb_test.pkl', 'wb')\n",
        "pickle.dump(word_embeddings_test, word_embeddings_test_file)\n",
        "word_embeddings_test_file.close()\n",
        "\n",
        "word_embeddings_train_file = open('drive/MyDrive/word_emb_train.pkl', 'wb')\n",
        "pickle.dump(word_embeddings_train, word_embeddings_train_file)\n",
        "word_embeddings_train_file.close()"
      ]
    },
    {
      "cell_type": "markdown",
      "metadata": {
        "id": "tzYAblyF_i5s"
      },
      "source": [
        "Διάβασμα από *.pkl αρχεία"
      ]
    },
    {
      "cell_type": "code",
      "execution_count": 87,
      "metadata": {
        "id": "1socN-Ge_oCz"
      },
      "outputs": [],
      "source": [
        "import pickle\n",
        "\n",
        "# read *.pkl files\n",
        "tfidf_train_file = open('drive/MyDrive/tfidf_train.pkl', 'rb')\n",
        "tfidf_train = pickle.load(tfidf_train_file)\n",
        "tfidf_train_file.close()\n",
        "\n",
        "tfidf_test_file = open('drive/MyDrive/tfidf_test.pkl', 'rb')\n",
        "tfidf_test = pickle.load(tfidf_test_file)\n",
        "tfidf_test_file.close()\n",
        "\n",
        "word_embeddings_test_file = open('drive/MyDrive/word_emb_test.pkl', 'rb')\n",
        "word_embeddings_test = pickle.load(word_embeddings_test_file)\n",
        "word_embeddings_test_file.close()\n",
        "\n",
        "word_embeddings_train_file = open('drive/MyDrive/word_emb_train.pkl', 'rb')\n",
        "word_embeddings_train = pickle.load(word_embeddings_train_file)\n",
        "word_embeddings_train_file.close()"
      ]
    },
    {
      "cell_type": "markdown",
      "metadata": {
        "id": "E6qZzGnlLiy7"
      },
      "source": [
        "Εκπαίδευση ταξινομητών με χρήση TFIDF"
      ]
    },
    {
      "cell_type": "code",
      "execution_count": 89,
      "metadata": {
        "id": "Eb4OrmuvEQVK"
      },
      "outputs": [],
      "source": [
        "from sklearn import svm\n",
        "from sklearn.ensemble import RandomForestClassifier\n",
        "from sklearn.neighbors import KNeighborsClassifier\n",
        "from sklearn import metrics\n",
        "from sklearn.metrics import classification_report, accuracy_score\n",
        "from sklearn.model_selection import cross_val_score, train_test_split\n",
        "from sklearn.ensemble import RandomForestClassifier"
      ]
    },
    {
      "cell_type": "code",
      "execution_count": 90,
      "metadata": {
        "id": "gueApGNPNKFP"
      },
      "outputs": [],
      "source": [
        "svm_tfidf = []\n",
        "rf_tfidf = []\n",
        "knn_tfidf = []"
      ]
    },
    {
      "cell_type": "code",
      "execution_count": 91,
      "metadata": {
        "colab": {
          "base_uri": "https://localhost:8080/"
        },
        "id": "dGIEmIqrwroL",
        "outputId": "55dd852a-9304-4366-a33c-fd4a4b5651e2"
      },
      "outputs": [
        {
          "name": "stdout",
          "output_type": "stream",
          "text": [
            "results cross validation: [0.87974684 0.86708861 0.87117212 0.86694826 0.88701162 0.87328405\n",
            " 0.87434002 0.86378036 0.89862724 0.87539599]\n",
            "mean: 0.8757395105128788\n",
            "Accuracy: 0.5259603208104685\n",
            "Precision: 0.567509138263666\n",
            "Recall: 0.5259603208104685\n",
            "F-Measure: 0.5443162588262914\n"
          ]
        }
      ],
      "source": [
        "# SVM, tfidf\n",
        "SVM = svm.SVC(C=1.0, kernel='linear', degree=3, gamma='auto')\n",
        "\n",
        "# cross validation\n",
        "cv_scores = cross_val_score(SVM, tfidf_train, comm_y_train, cv=10)\n",
        "print(\"results cross validation:\", cv_scores)\n",
        "print(\"mean:\", cv_scores.mean())\n",
        "\n",
        "SVM.fit(tfidf_train, comm_y_train)\n",
        "predictions_SVM = SVM.predict(tfidf_test) # predict the labels on validation dataset\n",
        "\n",
        "svm_tfidf.append(metrics.accuracy_score(comm_y_test, predictions_SVM))\n",
        "print(\"Accuracy:\", metrics.accuracy_score(comm_y_test, predictions_SVM))\n",
        "svm_tfidf.append(metrics.precision_score(comm_y_test, predictions_SVM, average='weighted'))\n",
        "print(\"Precision:\", metrics.precision_score(comm_y_test, predictions_SVM, average='weighted'))\n",
        "svm_tfidf.append(metrics.recall_score(comm_y_test, predictions_SVM, average='weighted'))\n",
        "print(\"Recall:\", metrics.recall_score(comm_y_test, predictions_SVM, average='weighted'))\n",
        "svm_tfidf.append(metrics.f1_score(comm_y_test, predictions_SVM, average='weighted'))\n",
        "print(\"F-Measure:\", metrics.f1_score(comm_y_test, predictions_SVM, average='weighted'))\n",
        "\n",
        "svm_tfidf.append(cv_scores.mean())\n",
        "\n",
        "# print(classification_report(comm_y_test, predictions_SVM))"
      ]
    },
    {
      "cell_type": "code",
      "execution_count": 92,
      "metadata": {
        "colab": {
          "base_uri": "https://localhost:8080/"
        },
        "id": "Rajx9oDv-cGg",
        "outputId": "a551875a-f08d-4d7a-961d-c87255312a39"
      },
      "outputs": [
        {
          "name": "stdout",
          "output_type": "stream",
          "text": [
            "results cross validation: [0.87763713 0.87025316 0.86906019 0.87750792 0.87539599 0.87328405\n",
            " 0.85955649 0.85110876 0.89440338 0.89017951]\n",
            "mean: 0.8738386599476918\n",
            "Accuracy: 0.49472351203039255\n",
            "Precision: 0.5857808510776923\n",
            "Recall: 0.49472351203039255\n",
            "F-Measure: 0.5281868223999869\n"
          ]
        }
      ],
      "source": [
        "# Random Forests, tfidf\n",
        "RFC = RandomForestClassifier()\n",
        "\n",
        "# cross validation\n",
        "cv_scores = cross_val_score(RFC, tfidf_train, comm_y_train, cv=10)\n",
        "print(\"results cross validation:\", cv_scores)\n",
        "print(\"mean:\", cv_scores.mean())\n",
        "\n",
        "RFC.fit(tfidf_train, comm_y_train)\n",
        "predictions_RFC = RFC.predict(tfidf_test) # predict the labels on validation dataset\n",
        "\n",
        "rf_tfidf.append(metrics.accuracy_score(comm_y_test, predictions_RFC))\n",
        "print(\"Accuracy:\", metrics.accuracy_score(comm_y_test, predictions_RFC))\n",
        "rf_tfidf.append(metrics.precision_score(comm_y_test, predictions_RFC, average='weighted'))\n",
        "print(\"Precision:\", metrics.precision_score(comm_y_test, predictions_RFC, average='weighted'))\n",
        "rf_tfidf.append(metrics.recall_score(comm_y_test, predictions_RFC, average='weighted'))\n",
        "print(\"Recall:\", metrics.recall_score(comm_y_test, predictions_RFC, average='weighted'))\n",
        "rf_tfidf.append(metrics.f1_score(comm_y_test, predictions_RFC, average='weighted'))\n",
        "print(\"F-Measure:\", metrics.f1_score(comm_y_test, predictions_RFC, average='weighted'))\n",
        "\n",
        "rf_tfidf.append(cv_scores.mean())\n",
        "\n",
        "# print(classification_report(comm_y_test, predictions_RFC))"
      ]
    },
    {
      "cell_type": "code",
      "execution_count": 93,
      "metadata": {
        "colab": {
          "base_uri": "https://localhost:8080/"
        },
        "id": "BAs-tWtFDZak",
        "outputId": "8936f607-047d-40ae-b005-262e37e79f6b"
      },
      "outputs": [
        {
          "name": "stdout",
          "output_type": "stream",
          "text": [
            "results cross validation: [0.83649789 0.80379747 0.82576558 0.81731785 0.81520591 0.78458289\n",
            " 0.80887012 0.79514256 0.83421331 0.79725449]\n",
            "mean: 0.8118648051363623\n",
            "Accuracy: 0.5356690586745462\n",
            "Precision: 0.5922886517430415\n",
            "Recall: 0.5356690586745462\n",
            "F-Measure: 0.5491904566528044\n"
          ]
        }
      ],
      "source": [
        "# KNN, tfidf\n",
        "KNN = KNeighborsClassifier(n_neighbors=3)\n",
        "\n",
        "# cross validation\n",
        "cv_scores = cross_val_score(KNN, tfidf_train, comm_y_train, cv=10)\n",
        "print(\"results cross validation:\", cv_scores)\n",
        "print(\"mean:\", cv_scores.mean())\n",
        "\n",
        "KNN.fit(tfidf_train, comm_y_train)\n",
        "predictions_KNN = KNN.predict(tfidf_test) # predict the labels on validation dataset\n",
        "\n",
        "knn_tfidf.append(metrics.accuracy_score(comm_y_test, predictions_KNN))\n",
        "print(\"Accuracy:\", metrics.accuracy_score(comm_y_test, predictions_KNN))\n",
        "knn_tfidf.append(metrics.precision_score(comm_y_test, predictions_KNN, average='weighted'))\n",
        "print(\"Precision:\", metrics.precision_score(comm_y_test, predictions_KNN, average='weighted'))\n",
        "knn_tfidf.append(metrics.recall_score(comm_y_test, predictions_KNN, average='weighted'))\n",
        "print(\"Recall:\", metrics.recall_score(comm_y_test, predictions_KNN, average='weighted'))\n",
        "knn_tfidf.append(metrics.f1_score(comm_y_test, predictions_KNN, average='weighted'))\n",
        "print(\"F-Measure:\", metrics.f1_score(comm_y_test, predictions_KNN, average='weighted'))\n",
        "\n",
        "knn_tfidf.append(cv_scores.mean())\n",
        "\n",
        "# print(classification_report(comm_y_test, predictions_KNN))"
      ]
    },
    {
      "cell_type": "markdown",
      "metadata": {
        "id": "mxwYgKgWLd7D"
      },
      "source": [
        "Εκπαίδευση ταξινομητών με χρήση Word embeddings"
      ]
    },
    {
      "cell_type": "code",
      "execution_count": 95,
      "metadata": {
        "id": "yXcXpFUFPsiA"
      },
      "outputs": [],
      "source": [
        "svm_we = []\n",
        "rf_we = []\n",
        "knn_we = []"
      ]
    },
    {
      "cell_type": "code",
      "execution_count": 96,
      "metadata": {
        "colab": {
          "base_uri": "https://localhost:8080/"
        },
        "id": "FK_X9MS7NmZC",
        "outputId": "cb322eaf-497d-4de3-fc21-fad3b576f9c9"
      },
      "outputs": [
        {
          "name": "stdout",
          "output_type": "stream",
          "text": [
            "results cross validation: [0.89978903 0.90084388 0.90496304 0.88701162 0.90496304 0.88278775\n",
            " 0.89757128 0.88067582 0.89757128 0.89229145]\n",
            "mean: 0.8948468180663788\n",
            "Accuracy: 0.40523427606585055\n",
            "Precision: 0.41210179557061183\n",
            "Recall: 0.40523427606585055\n",
            "F-Measure: 0.38745222002212915\n"
          ]
        }
      ],
      "source": [
        "# SVM, word embeddings\n",
        "SVM = svm.SVC(C=1.0, kernel='linear', degree=3, gamma='auto')\n",
        "\n",
        "# cross validation\n",
        "cv_scores = cross_val_score(SVM, word_embeddings_train, comm_y_train, cv=10)\n",
        "print(\"results cross validation:\", cv_scores)\n",
        "print(\"mean:\", cv_scores.mean())\n",
        "\n",
        "SVM.fit(word_embeddings_train, comm_y_train)\n",
        "predictions_SVM = SVM.predict(word_embeddings_test) # predict the labels on validation dataset\n",
        "\n",
        "svm_we.append(metrics.accuracy_score(comm_y_test, predictions_SVM))\n",
        "print(\"Accuracy:\", metrics.accuracy_score(comm_y_test, predictions_SVM))\n",
        "svm_we.append(metrics.precision_score(comm_y_test, predictions_SVM, average='weighted'))\n",
        "print(\"Precision:\", metrics.precision_score(comm_y_test, predictions_SVM, average='weighted'))\n",
        "svm_we.append(metrics.recall_score(comm_y_test, predictions_SVM, average='weighted'))\n",
        "print(\"Recall:\", metrics.recall_score(comm_y_test, predictions_SVM, average='weighted'))\n",
        "svm_we.append(metrics.f1_score(comm_y_test, predictions_SVM, average='weighted'))\n",
        "print(\"F-Measure:\", metrics.f1_score(comm_y_test, predictions_SVM, average='weighted'))\n",
        "\n",
        "svm_we.append(cv_scores.mean())\n",
        "# print(classification_report(comm_y_test, predictions_SVM))"
      ]
    },
    {
      "cell_type": "code",
      "execution_count": 98,
      "metadata": {
        "colab": {
          "base_uri": "https://localhost:8080/"
        },
        "id": "TMeLW39vLpKT",
        "outputId": "8a119b01-4af5-4f66-bcbd-af3f9ea0a576"
      },
      "outputs": [
        {
          "name": "stdout",
          "output_type": "stream",
          "text": [
            "results cross validation: [0.90084388 0.89873418 0.89862724 0.87961985 0.90496304 0.88701162\n",
            " 0.87750792 0.88067582 0.90707497 0.90073918]\n",
            "mean: 0.8935797700043219\n",
            "Accuracy: 0.44195863233431826\n",
            "Precision: 0.7361553072568873\n",
            "Recall: 0.44195863233431826\n",
            "F-Measure: 0.4189206812125523\n"
          ]
        }
      ],
      "source": [
        "# Random Forests, word embeddings\n",
        "RFC = RandomForestClassifier()\n",
        "\n",
        "# cross validation\n",
        "cv_scores = cross_val_score(RFC, word_embeddings_train, comm_y_train, cv=10)\n",
        "print(\"results cross validation:\", cv_scores)\n",
        "print(\"mean:\", cv_scores.mean())\n",
        "\n",
        "RFC.fit(word_embeddings_train, comm_y_train)\n",
        "predictions_RFC = RFC.predict(word_embeddings_test) # predict the labels on validation dataset\n",
        "\n",
        "rf_we.append(metrics.accuracy_score(comm_y_test, predictions_RFC))\n",
        "print(\"Accuracy:\", metrics.accuracy_score(comm_y_test, predictions_RFC))\n",
        "rf_we.append(metrics.precision_score(comm_y_test, predictions_RFC, average='weighted'))\n",
        "print(\"Precision:\", metrics.precision_score(comm_y_test, predictions_RFC, average='weighted'))\n",
        "rf_we.append(metrics.recall_score(comm_y_test, predictions_RFC, average='weighted'))\n",
        "print(\"Recall:\", metrics.recall_score(comm_y_test, predictions_RFC, average='weighted'))\n",
        "rf_we.append(metrics.f1_score(comm_y_test, predictions_RFC, average='weighted'))\n",
        "print(\"F-Measure:\", metrics.f1_score(comm_y_test, predictions_RFC, average='weighted'))\n",
        "\n",
        "rf_we.append(cv_scores.mean())\n",
        "# print(classification_report(comm_y_test, predictions_RFC))"
      ]
    },
    {
      "cell_type": "code",
      "execution_count": 99,
      "metadata": {
        "colab": {
          "base_uri": "https://localhost:8080/"
        },
        "id": "SawzZm8GLu1b",
        "outputId": "7b032130-6eef-419f-e18a-b3710150404e"
      },
      "outputs": [
        {
          "name": "stdout",
          "output_type": "stream",
          "text": [
            "results cross validation: [0.87974684 0.87763713 0.88067582 0.85850053 0.87434002 0.85427666\n",
            " 0.85955649 0.86800422 0.89017951 0.86800422]\n",
            "mean: 0.8710921453045148\n",
            "Accuracy: 0.44660194174757284\n",
            "Precision: 0.540253647429539\n",
            "Recall: 0.44660194174757284\n",
            "F-Measure: 0.4631545548306888\n"
          ]
        }
      ],
      "source": [
        "# KNN, tfidf\n",
        "KNN = KNeighborsClassifier(n_neighbors=3)\n",
        "\n",
        "# cross validation\n",
        "cv_scores = cross_val_score(KNN, word_embeddings_train, comm_y_train, cv=10)\n",
        "print(\"results cross validation:\", cv_scores)\n",
        "print(\"mean:\", cv_scores.mean())\n",
        "\n",
        "KNN.fit(word_embeddings_train, comm_y_train)\n",
        "predictions_KNN = KNN.predict(word_embeddings_test) # predict the labels on validation dataset\n",
        "\n",
        "knn_we.append(metrics.accuracy_score(comm_y_test, predictions_KNN))\n",
        "print(\"Accuracy:\", metrics.accuracy_score(comm_y_test, predictions_KNN))\n",
        "knn_we.append(metrics.precision_score(comm_y_test, predictions_KNN, average='weighted'))\n",
        "print(\"Precision:\", metrics.precision_score(comm_y_test, predictions_KNN, average='weighted'))\n",
        "knn_we.append(metrics.recall_score(comm_y_test, predictions_KNN, average='weighted'))\n",
        "print(\"Recall:\", metrics.recall_score(comm_y_test, predictions_KNN, average='weighted'))\n",
        "knn_we.append(metrics.f1_score(comm_y_test, predictions_KNN, average='weighted'))\n",
        "print(\"F-Measure:\", metrics.f1_score(comm_y_test, predictions_KNN, average='weighted'))\n",
        "\n",
        "knn_we.append(cv_scores.mean())\n",
        "# print(classification_report(comm_y_test, predictions_KNN))"
      ]
    },
    {
      "cell_type": "markdown",
      "metadata": {
        "id": "PEVtLl8tMEL7"
      },
      "source": [
        "Σύγκριση Μεθόδων"
      ]
    },
    {
      "cell_type": "code",
      "execution_count": 100,
      "metadata": {
        "id": "Itc3G5YUMXqR"
      },
      "outputs": [],
      "source": [
        "df_tfidf = pd.DataFrame(columns=['Accuracy', 'Precision', 'Recall', 'F-Measure', '10-Fold Cross (mean)'])\n",
        "df_tfidf.loc[len(df_tfidf)] = svm_tfidf\n",
        "df_tfidf.loc[len(df_tfidf)] = rf_tfidf\n",
        "df_tfidf.loc[len(df_tfidf)] = knn_tfidf\n",
        "indx = ['SVM', 'Random Forests', 'KNN']\n",
        "df_tfidf.index = indx\n",
        "\n",
        "df_we = pd.DataFrame(columns=['Accuracy', 'Precision', 'Recall', 'F-Measure', '10-Fold Cross (mean)'])\n",
        "df_we.loc[len(df_we)] = svm_we\n",
        "df_we.loc[len(df_we)] = rf_we\n",
        "df_we.loc[len(df_we)] = knn_we\n",
        "df_we.index = indx"
      ]
    },
    {
      "cell_type": "markdown",
      "metadata": {
        "id": "uHQol_0fYY66"
      },
      "source": [
        "Αποτελέσματα εκπαίδευσης με tf-idf"
      ]
    },
    {
      "cell_type": "code",
      "execution_count": 101,
      "metadata": {
        "colab": {
          "base_uri": "https://localhost:8080/",
          "height": 143
        },
        "id": "feYtqlEfNMLO",
        "outputId": "613ae565-7bca-4978-998c-11b9431caad7"
      },
      "outputs": [
        {
          "data": {
            "application/vnd.google.colaboratory.intrinsic+json": {
              "summary": "{\n  \"name\": \"df_tfidf\",\n  \"rows\": 3,\n  \"fields\": [\n    {\n      \"column\": \"Accuracy\",\n      \"properties\": {\n        \"dtype\": \"number\",\n        \"std\": 0.021395231570239218,\n        \"min\": 0.49472351203039255,\n        \"max\": 0.5356690586745462,\n        \"num_unique_values\": 3,\n        \"samples\": [\n          0.5259603208104685,\n          0.49472351203039255,\n          0.5356690586745462\n        ],\n        \"semantic_type\": \"\",\n        \"description\": \"\"\n      }\n    },\n    {\n      \"column\": \"Precision\",\n      \"properties\": {\n        \"dtype\": \"number\",\n        \"std\": 0.01284673270351079,\n        \"min\": 0.567509138263666,\n        \"max\": 0.5922886517430415,\n        \"num_unique_values\": 3,\n        \"samples\": [\n          0.567509138263666,\n          0.5857808510776923,\n          0.5922886517430415\n        ],\n        \"semantic_type\": \"\",\n        \"description\": \"\"\n      }\n    },\n    {\n      \"column\": \"Recall\",\n      \"properties\": {\n        \"dtype\": \"number\",\n        \"std\": 0.021395231570239218,\n        \"min\": 0.49472351203039255,\n        \"max\": 0.5356690586745462,\n        \"num_unique_values\": 3,\n        \"samples\": [\n          0.5259603208104685,\n          0.49472351203039255,\n          0.5356690586745462\n        ],\n        \"semantic_type\": \"\",\n        \"description\": \"\"\n      }\n    },\n    {\n      \"column\": \"F-Measure\",\n      \"properties\": {\n        \"dtype\": \"number\",\n        \"std\": 0.01099294603907668,\n        \"min\": 0.5281868223999869,\n        \"max\": 0.5491904566528044,\n        \"num_unique_values\": 3,\n        \"samples\": [\n          0.5443162588262914,\n          0.5281868223999869,\n          0.5491904566528044\n        ],\n        \"semantic_type\": \"\",\n        \"description\": \"\"\n      }\n    },\n    {\n      \"column\": \"10-Fold Cross (mean)\",\n      \"properties\": {\n        \"dtype\": \"number\",\n        \"std\": 0.03634178013431124,\n        \"min\": 0.8118648051363623,\n        \"max\": 0.8757395105128788,\n        \"num_unique_values\": 3,\n        \"samples\": [\n          0.8757395105128788,\n          0.8738386599476918,\n          0.8118648051363623\n        ],\n        \"semantic_type\": \"\",\n        \"description\": \"\"\n      }\n    }\n  ]\n}",
              "type": "dataframe",
              "variable_name": "df_tfidf"
            },
            "text/html": [
              "\n",
              "  <div id=\"df-3a6b9cd5-c6fd-4292-b91f-16260207e73e\" class=\"colab-df-container\">\n",
              "    <div>\n",
              "<style scoped>\n",
              "    .dataframe tbody tr th:only-of-type {\n",
              "        vertical-align: middle;\n",
              "    }\n",
              "\n",
              "    .dataframe tbody tr th {\n",
              "        vertical-align: top;\n",
              "    }\n",
              "\n",
              "    .dataframe thead th {\n",
              "        text-align: right;\n",
              "    }\n",
              "</style>\n",
              "<table border=\"1\" class=\"dataframe\">\n",
              "  <thead>\n",
              "    <tr style=\"text-align: right;\">\n",
              "      <th></th>\n",
              "      <th>Accuracy</th>\n",
              "      <th>Precision</th>\n",
              "      <th>Recall</th>\n",
              "      <th>F-Measure</th>\n",
              "      <th>10-Fold Cross (mean)</th>\n",
              "    </tr>\n",
              "  </thead>\n",
              "  <tbody>\n",
              "    <tr>\n",
              "      <th>SVM</th>\n",
              "      <td>0.525960</td>\n",
              "      <td>0.567509</td>\n",
              "      <td>0.525960</td>\n",
              "      <td>0.544316</td>\n",
              "      <td>0.875740</td>\n",
              "    </tr>\n",
              "    <tr>\n",
              "      <th>Random Forests</th>\n",
              "      <td>0.494724</td>\n",
              "      <td>0.585781</td>\n",
              "      <td>0.494724</td>\n",
              "      <td>0.528187</td>\n",
              "      <td>0.873839</td>\n",
              "    </tr>\n",
              "    <tr>\n",
              "      <th>KNN</th>\n",
              "      <td>0.535669</td>\n",
              "      <td>0.592289</td>\n",
              "      <td>0.535669</td>\n",
              "      <td>0.549190</td>\n",
              "      <td>0.811865</td>\n",
              "    </tr>\n",
              "  </tbody>\n",
              "</table>\n",
              "</div>\n",
              "    <div class=\"colab-df-buttons\">\n",
              "\n",
              "  <div class=\"colab-df-container\">\n",
              "    <button class=\"colab-df-convert\" onclick=\"convertToInteractive('df-3a6b9cd5-c6fd-4292-b91f-16260207e73e')\"\n",
              "            title=\"Convert this dataframe to an interactive table.\"\n",
              "            style=\"display:none;\">\n",
              "\n",
              "  <svg xmlns=\"http://www.w3.org/2000/svg\" height=\"24px\" viewBox=\"0 -960 960 960\">\n",
              "    <path d=\"M120-120v-720h720v720H120Zm60-500h600v-160H180v160Zm220 220h160v-160H400v160Zm0 220h160v-160H400v160ZM180-400h160v-160H180v160Zm440 0h160v-160H620v160ZM180-180h160v-160H180v160Zm440 0h160v-160H620v160Z\"/>\n",
              "  </svg>\n",
              "    </button>\n",
              "\n",
              "  <style>\n",
              "    .colab-df-container {\n",
              "      display:flex;\n",
              "      gap: 12px;\n",
              "    }\n",
              "\n",
              "    .colab-df-convert {\n",
              "      background-color: #E8F0FE;\n",
              "      border: none;\n",
              "      border-radius: 50%;\n",
              "      cursor: pointer;\n",
              "      display: none;\n",
              "      fill: #1967D2;\n",
              "      height: 32px;\n",
              "      padding: 0 0 0 0;\n",
              "      width: 32px;\n",
              "    }\n",
              "\n",
              "    .colab-df-convert:hover {\n",
              "      background-color: #E2EBFA;\n",
              "      box-shadow: 0px 1px 2px rgba(60, 64, 67, 0.3), 0px 1px 3px 1px rgba(60, 64, 67, 0.15);\n",
              "      fill: #174EA6;\n",
              "    }\n",
              "\n",
              "    .colab-df-buttons div {\n",
              "      margin-bottom: 4px;\n",
              "    }\n",
              "\n",
              "    [theme=dark] .colab-df-convert {\n",
              "      background-color: #3B4455;\n",
              "      fill: #D2E3FC;\n",
              "    }\n",
              "\n",
              "    [theme=dark] .colab-df-convert:hover {\n",
              "      background-color: #434B5C;\n",
              "      box-shadow: 0px 1px 3px 1px rgba(0, 0, 0, 0.15);\n",
              "      filter: drop-shadow(0px 1px 2px rgba(0, 0, 0, 0.3));\n",
              "      fill: #FFFFFF;\n",
              "    }\n",
              "  </style>\n",
              "\n",
              "    <script>\n",
              "      const buttonEl =\n",
              "        document.querySelector('#df-3a6b9cd5-c6fd-4292-b91f-16260207e73e button.colab-df-convert');\n",
              "      buttonEl.style.display =\n",
              "        google.colab.kernel.accessAllowed ? 'block' : 'none';\n",
              "\n",
              "      async function convertToInteractive(key) {\n",
              "        const element = document.querySelector('#df-3a6b9cd5-c6fd-4292-b91f-16260207e73e');\n",
              "        const dataTable =\n",
              "          await google.colab.kernel.invokeFunction('convertToInteractive',\n",
              "                                                    [key], {});\n",
              "        if (!dataTable) return;\n",
              "\n",
              "        const docLinkHtml = 'Like what you see? Visit the ' +\n",
              "          '<a target=\"_blank\" href=https://colab.research.google.com/notebooks/data_table.ipynb>data table notebook</a>'\n",
              "          + ' to learn more about interactive tables.';\n",
              "        element.innerHTML = '';\n",
              "        dataTable['output_type'] = 'display_data';\n",
              "        await google.colab.output.renderOutput(dataTable, element);\n",
              "        const docLink = document.createElement('div');\n",
              "        docLink.innerHTML = docLinkHtml;\n",
              "        element.appendChild(docLink);\n",
              "      }\n",
              "    </script>\n",
              "  </div>\n",
              "\n",
              "\n",
              "<div id=\"df-5c6b7422-0f8b-4249-b3d0-4121aa8bd467\">\n",
              "  <button class=\"colab-df-quickchart\" onclick=\"quickchart('df-5c6b7422-0f8b-4249-b3d0-4121aa8bd467')\"\n",
              "            title=\"Suggest charts\"\n",
              "            style=\"display:none;\">\n",
              "\n",
              "<svg xmlns=\"http://www.w3.org/2000/svg\" height=\"24px\"viewBox=\"0 0 24 24\"\n",
              "     width=\"24px\">\n",
              "    <g>\n",
              "        <path d=\"M19 3H5c-1.1 0-2 .9-2 2v14c0 1.1.9 2 2 2h14c1.1 0 2-.9 2-2V5c0-1.1-.9-2-2-2zM9 17H7v-7h2v7zm4 0h-2V7h2v10zm4 0h-2v-4h2v4z\"/>\n",
              "    </g>\n",
              "</svg>\n",
              "  </button>\n",
              "\n",
              "<style>\n",
              "  .colab-df-quickchart {\n",
              "      --bg-color: #E8F0FE;\n",
              "      --fill-color: #1967D2;\n",
              "      --hover-bg-color: #E2EBFA;\n",
              "      --hover-fill-color: #174EA6;\n",
              "      --disabled-fill-color: #AAA;\n",
              "      --disabled-bg-color: #DDD;\n",
              "  }\n",
              "\n",
              "  [theme=dark] .colab-df-quickchart {\n",
              "      --bg-color: #3B4455;\n",
              "      --fill-color: #D2E3FC;\n",
              "      --hover-bg-color: #434B5C;\n",
              "      --hover-fill-color: #FFFFFF;\n",
              "      --disabled-bg-color: #3B4455;\n",
              "      --disabled-fill-color: #666;\n",
              "  }\n",
              "\n",
              "  .colab-df-quickchart {\n",
              "    background-color: var(--bg-color);\n",
              "    border: none;\n",
              "    border-radius: 50%;\n",
              "    cursor: pointer;\n",
              "    display: none;\n",
              "    fill: var(--fill-color);\n",
              "    height: 32px;\n",
              "    padding: 0;\n",
              "    width: 32px;\n",
              "  }\n",
              "\n",
              "  .colab-df-quickchart:hover {\n",
              "    background-color: var(--hover-bg-color);\n",
              "    box-shadow: 0 1px 2px rgba(60, 64, 67, 0.3), 0 1px 3px 1px rgba(60, 64, 67, 0.15);\n",
              "    fill: var(--button-hover-fill-color);\n",
              "  }\n",
              "\n",
              "  .colab-df-quickchart-complete:disabled,\n",
              "  .colab-df-quickchart-complete:disabled:hover {\n",
              "    background-color: var(--disabled-bg-color);\n",
              "    fill: var(--disabled-fill-color);\n",
              "    box-shadow: none;\n",
              "  }\n",
              "\n",
              "  .colab-df-spinner {\n",
              "    border: 2px solid var(--fill-color);\n",
              "    border-color: transparent;\n",
              "    border-bottom-color: var(--fill-color);\n",
              "    animation:\n",
              "      spin 1s steps(1) infinite;\n",
              "  }\n",
              "\n",
              "  @keyframes spin {\n",
              "    0% {\n",
              "      border-color: transparent;\n",
              "      border-bottom-color: var(--fill-color);\n",
              "      border-left-color: var(--fill-color);\n",
              "    }\n",
              "    20% {\n",
              "      border-color: transparent;\n",
              "      border-left-color: var(--fill-color);\n",
              "      border-top-color: var(--fill-color);\n",
              "    }\n",
              "    30% {\n",
              "      border-color: transparent;\n",
              "      border-left-color: var(--fill-color);\n",
              "      border-top-color: var(--fill-color);\n",
              "      border-right-color: var(--fill-color);\n",
              "    }\n",
              "    40% {\n",
              "      border-color: transparent;\n",
              "      border-right-color: var(--fill-color);\n",
              "      border-top-color: var(--fill-color);\n",
              "    }\n",
              "    60% {\n",
              "      border-color: transparent;\n",
              "      border-right-color: var(--fill-color);\n",
              "    }\n",
              "    80% {\n",
              "      border-color: transparent;\n",
              "      border-right-color: var(--fill-color);\n",
              "      border-bottom-color: var(--fill-color);\n",
              "    }\n",
              "    90% {\n",
              "      border-color: transparent;\n",
              "      border-bottom-color: var(--fill-color);\n",
              "    }\n",
              "  }\n",
              "</style>\n",
              "\n",
              "  <script>\n",
              "    async function quickchart(key) {\n",
              "      const quickchartButtonEl =\n",
              "        document.querySelector('#' + key + ' button');\n",
              "      quickchartButtonEl.disabled = true;  // To prevent multiple clicks.\n",
              "      quickchartButtonEl.classList.add('colab-df-spinner');\n",
              "      try {\n",
              "        const charts = await google.colab.kernel.invokeFunction(\n",
              "            'suggestCharts', [key], {});\n",
              "      } catch (error) {\n",
              "        console.error('Error during call to suggestCharts:', error);\n",
              "      }\n",
              "      quickchartButtonEl.classList.remove('colab-df-spinner');\n",
              "      quickchartButtonEl.classList.add('colab-df-quickchart-complete');\n",
              "    }\n",
              "    (() => {\n",
              "      let quickchartButtonEl =\n",
              "        document.querySelector('#df-5c6b7422-0f8b-4249-b3d0-4121aa8bd467 button');\n",
              "      quickchartButtonEl.style.display =\n",
              "        google.colab.kernel.accessAllowed ? 'block' : 'none';\n",
              "    })();\n",
              "  </script>\n",
              "</div>\n",
              "    </div>\n",
              "  </div>\n"
            ],
            "text/plain": [
              "                Accuracy  Precision    Recall  F-Measure  10-Fold Cross (mean)\n",
              "SVM             0.525960   0.567509  0.525960   0.544316              0.875740\n",
              "Random Forests  0.494724   0.585781  0.494724   0.528187              0.873839\n",
              "KNN             0.535669   0.592289  0.535669   0.549190              0.811865"
            ]
          },
          "execution_count": 101,
          "metadata": {},
          "output_type": "execute_result"
        }
      ],
      "source": [
        "df_tfidf"
      ]
    },
    {
      "cell_type": "markdown",
      "metadata": {
        "id": "IzS-mE45Yb9a"
      },
      "source": [
        "Αποτελέσματα εκπαίδευσης με word embeddings"
      ]
    },
    {
      "cell_type": "code",
      "execution_count": 102,
      "metadata": {
        "colab": {
          "base_uri": "https://localhost:8080/",
          "height": 143
        },
        "id": "c2SVjvBQSYA5",
        "outputId": "4c967a8e-a36d-424d-9f62-275af5dfeb95"
      },
      "outputs": [
        {
          "data": {
            "application/vnd.google.colaboratory.intrinsic+json": {
              "summary": "{\n  \"name\": \"df_we\",\n  \"rows\": 3,\n  \"fields\": [\n    {\n      \"column\": \"Accuracy\",\n      \"properties\": {\n        \"dtype\": \"number\",\n        \"std\": 0.022662459522285253,\n        \"min\": 0.40523427606585055,\n        \"max\": 0.44660194174757284,\n        \"num_unique_values\": 3,\n        \"samples\": [\n          0.40523427606585055,\n          0.44195863233431826,\n          0.44660194174757284\n        ],\n        \"semantic_type\": \"\",\n        \"description\": \"\"\n      }\n    },\n    {\n      \"column\": \"Precision\",\n      \"properties\": {\n        \"dtype\": \"number\",\n        \"std\": 0.16320285735559775,\n        \"min\": 0.41210179557061183,\n        \"max\": 0.7361553072568873,\n        \"num_unique_values\": 3,\n        \"samples\": [\n          0.41210179557061183,\n          0.7361553072568873,\n          0.540253647429539\n        ],\n        \"semantic_type\": \"\",\n        \"description\": \"\"\n      }\n    },\n    {\n      \"column\": \"Recall\",\n      \"properties\": {\n        \"dtype\": \"number\",\n        \"std\": 0.022662459522285253,\n        \"min\": 0.40523427606585055,\n        \"max\": 0.44660194174757284,\n        \"num_unique_values\": 3,\n        \"samples\": [\n          0.40523427606585055,\n          0.44195863233431826,\n          0.44660194174757284\n        ],\n        \"semantic_type\": \"\",\n        \"description\": \"\"\n      }\n    },\n    {\n      \"column\": \"F-Measure\",\n      \"properties\": {\n        \"dtype\": \"number\",\n        \"std\": 0.03803012647981795,\n        \"min\": 0.38745222002212915,\n        \"max\": 0.4631545548306888,\n        \"num_unique_values\": 3,\n        \"samples\": [\n          0.38745222002212915,\n          0.4189206812125523,\n          0.4631545548306888\n        ],\n        \"semantic_type\": \"\",\n        \"description\": \"\"\n      }\n    },\n    {\n      \"column\": \"10-Fold Cross (mean)\",\n      \"properties\": {\n        \"dtype\": \"number\",\n        \"std\": 0.013364026049150095,\n        \"min\": 0.8710921453045148,\n        \"max\": 0.8948468180663788,\n        \"num_unique_values\": 3,\n        \"samples\": [\n          0.8948468180663788,\n          0.8935797700043219,\n          0.8710921453045148\n        ],\n        \"semantic_type\": \"\",\n        \"description\": \"\"\n      }\n    }\n  ]\n}",
              "type": "dataframe",
              "variable_name": "df_we"
            },
            "text/html": [
              "\n",
              "  <div id=\"df-75f20e81-2f07-4a26-b99d-1ce85a98b70d\" class=\"colab-df-container\">\n",
              "    <div>\n",
              "<style scoped>\n",
              "    .dataframe tbody tr th:only-of-type {\n",
              "        vertical-align: middle;\n",
              "    }\n",
              "\n",
              "    .dataframe tbody tr th {\n",
              "        vertical-align: top;\n",
              "    }\n",
              "\n",
              "    .dataframe thead th {\n",
              "        text-align: right;\n",
              "    }\n",
              "</style>\n",
              "<table border=\"1\" class=\"dataframe\">\n",
              "  <thead>\n",
              "    <tr style=\"text-align: right;\">\n",
              "      <th></th>\n",
              "      <th>Accuracy</th>\n",
              "      <th>Precision</th>\n",
              "      <th>Recall</th>\n",
              "      <th>F-Measure</th>\n",
              "      <th>10-Fold Cross (mean)</th>\n",
              "    </tr>\n",
              "  </thead>\n",
              "  <tbody>\n",
              "    <tr>\n",
              "      <th>SVM</th>\n",
              "      <td>0.405234</td>\n",
              "      <td>0.412102</td>\n",
              "      <td>0.405234</td>\n",
              "      <td>0.387452</td>\n",
              "      <td>0.894847</td>\n",
              "    </tr>\n",
              "    <tr>\n",
              "      <th>Random Forests</th>\n",
              "      <td>0.441959</td>\n",
              "      <td>0.736155</td>\n",
              "      <td>0.441959</td>\n",
              "      <td>0.418921</td>\n",
              "      <td>0.893580</td>\n",
              "    </tr>\n",
              "    <tr>\n",
              "      <th>KNN</th>\n",
              "      <td>0.446602</td>\n",
              "      <td>0.540254</td>\n",
              "      <td>0.446602</td>\n",
              "      <td>0.463155</td>\n",
              "      <td>0.871092</td>\n",
              "    </tr>\n",
              "  </tbody>\n",
              "</table>\n",
              "</div>\n",
              "    <div class=\"colab-df-buttons\">\n",
              "\n",
              "  <div class=\"colab-df-container\">\n",
              "    <button class=\"colab-df-convert\" onclick=\"convertToInteractive('df-75f20e81-2f07-4a26-b99d-1ce85a98b70d')\"\n",
              "            title=\"Convert this dataframe to an interactive table.\"\n",
              "            style=\"display:none;\">\n",
              "\n",
              "  <svg xmlns=\"http://www.w3.org/2000/svg\" height=\"24px\" viewBox=\"0 -960 960 960\">\n",
              "    <path d=\"M120-120v-720h720v720H120Zm60-500h600v-160H180v160Zm220 220h160v-160H400v160Zm0 220h160v-160H400v160ZM180-400h160v-160H180v160Zm440 0h160v-160H620v160ZM180-180h160v-160H180v160Zm440 0h160v-160H620v160Z\"/>\n",
              "  </svg>\n",
              "    </button>\n",
              "\n",
              "  <style>\n",
              "    .colab-df-container {\n",
              "      display:flex;\n",
              "      gap: 12px;\n",
              "    }\n",
              "\n",
              "    .colab-df-convert {\n",
              "      background-color: #E8F0FE;\n",
              "      border: none;\n",
              "      border-radius: 50%;\n",
              "      cursor: pointer;\n",
              "      display: none;\n",
              "      fill: #1967D2;\n",
              "      height: 32px;\n",
              "      padding: 0 0 0 0;\n",
              "      width: 32px;\n",
              "    }\n",
              "\n",
              "    .colab-df-convert:hover {\n",
              "      background-color: #E2EBFA;\n",
              "      box-shadow: 0px 1px 2px rgba(60, 64, 67, 0.3), 0px 1px 3px 1px rgba(60, 64, 67, 0.15);\n",
              "      fill: #174EA6;\n",
              "    }\n",
              "\n",
              "    .colab-df-buttons div {\n",
              "      margin-bottom: 4px;\n",
              "    }\n",
              "\n",
              "    [theme=dark] .colab-df-convert {\n",
              "      background-color: #3B4455;\n",
              "      fill: #D2E3FC;\n",
              "    }\n",
              "\n",
              "    [theme=dark] .colab-df-convert:hover {\n",
              "      background-color: #434B5C;\n",
              "      box-shadow: 0px 1px 3px 1px rgba(0, 0, 0, 0.15);\n",
              "      filter: drop-shadow(0px 1px 2px rgba(0, 0, 0, 0.3));\n",
              "      fill: #FFFFFF;\n",
              "    }\n",
              "  </style>\n",
              "\n",
              "    <script>\n",
              "      const buttonEl =\n",
              "        document.querySelector('#df-75f20e81-2f07-4a26-b99d-1ce85a98b70d button.colab-df-convert');\n",
              "      buttonEl.style.display =\n",
              "        google.colab.kernel.accessAllowed ? 'block' : 'none';\n",
              "\n",
              "      async function convertToInteractive(key) {\n",
              "        const element = document.querySelector('#df-75f20e81-2f07-4a26-b99d-1ce85a98b70d');\n",
              "        const dataTable =\n",
              "          await google.colab.kernel.invokeFunction('convertToInteractive',\n",
              "                                                    [key], {});\n",
              "        if (!dataTable) return;\n",
              "\n",
              "        const docLinkHtml = 'Like what you see? Visit the ' +\n",
              "          '<a target=\"_blank\" href=https://colab.research.google.com/notebooks/data_table.ipynb>data table notebook</a>'\n",
              "          + ' to learn more about interactive tables.';\n",
              "        element.innerHTML = '';\n",
              "        dataTable['output_type'] = 'display_data';\n",
              "        await google.colab.output.renderOutput(dataTable, element);\n",
              "        const docLink = document.createElement('div');\n",
              "        docLink.innerHTML = docLinkHtml;\n",
              "        element.appendChild(docLink);\n",
              "      }\n",
              "    </script>\n",
              "  </div>\n",
              "\n",
              "\n",
              "<div id=\"df-8bd74100-6c84-4578-93b5-988123a58121\">\n",
              "  <button class=\"colab-df-quickchart\" onclick=\"quickchart('df-8bd74100-6c84-4578-93b5-988123a58121')\"\n",
              "            title=\"Suggest charts\"\n",
              "            style=\"display:none;\">\n",
              "\n",
              "<svg xmlns=\"http://www.w3.org/2000/svg\" height=\"24px\"viewBox=\"0 0 24 24\"\n",
              "     width=\"24px\">\n",
              "    <g>\n",
              "        <path d=\"M19 3H5c-1.1 0-2 .9-2 2v14c0 1.1.9 2 2 2h14c1.1 0 2-.9 2-2V5c0-1.1-.9-2-2-2zM9 17H7v-7h2v7zm4 0h-2V7h2v10zm4 0h-2v-4h2v4z\"/>\n",
              "    </g>\n",
              "</svg>\n",
              "  </button>\n",
              "\n",
              "<style>\n",
              "  .colab-df-quickchart {\n",
              "      --bg-color: #E8F0FE;\n",
              "      --fill-color: #1967D2;\n",
              "      --hover-bg-color: #E2EBFA;\n",
              "      --hover-fill-color: #174EA6;\n",
              "      --disabled-fill-color: #AAA;\n",
              "      --disabled-bg-color: #DDD;\n",
              "  }\n",
              "\n",
              "  [theme=dark] .colab-df-quickchart {\n",
              "      --bg-color: #3B4455;\n",
              "      --fill-color: #D2E3FC;\n",
              "      --hover-bg-color: #434B5C;\n",
              "      --hover-fill-color: #FFFFFF;\n",
              "      --disabled-bg-color: #3B4455;\n",
              "      --disabled-fill-color: #666;\n",
              "  }\n",
              "\n",
              "  .colab-df-quickchart {\n",
              "    background-color: var(--bg-color);\n",
              "    border: none;\n",
              "    border-radius: 50%;\n",
              "    cursor: pointer;\n",
              "    display: none;\n",
              "    fill: var(--fill-color);\n",
              "    height: 32px;\n",
              "    padding: 0;\n",
              "    width: 32px;\n",
              "  }\n",
              "\n",
              "  .colab-df-quickchart:hover {\n",
              "    background-color: var(--hover-bg-color);\n",
              "    box-shadow: 0 1px 2px rgba(60, 64, 67, 0.3), 0 1px 3px 1px rgba(60, 64, 67, 0.15);\n",
              "    fill: var(--button-hover-fill-color);\n",
              "  }\n",
              "\n",
              "  .colab-df-quickchart-complete:disabled,\n",
              "  .colab-df-quickchart-complete:disabled:hover {\n",
              "    background-color: var(--disabled-bg-color);\n",
              "    fill: var(--disabled-fill-color);\n",
              "    box-shadow: none;\n",
              "  }\n",
              "\n",
              "  .colab-df-spinner {\n",
              "    border: 2px solid var(--fill-color);\n",
              "    border-color: transparent;\n",
              "    border-bottom-color: var(--fill-color);\n",
              "    animation:\n",
              "      spin 1s steps(1) infinite;\n",
              "  }\n",
              "\n",
              "  @keyframes spin {\n",
              "    0% {\n",
              "      border-color: transparent;\n",
              "      border-bottom-color: var(--fill-color);\n",
              "      border-left-color: var(--fill-color);\n",
              "    }\n",
              "    20% {\n",
              "      border-color: transparent;\n",
              "      border-left-color: var(--fill-color);\n",
              "      border-top-color: var(--fill-color);\n",
              "    }\n",
              "    30% {\n",
              "      border-color: transparent;\n",
              "      border-left-color: var(--fill-color);\n",
              "      border-top-color: var(--fill-color);\n",
              "      border-right-color: var(--fill-color);\n",
              "    }\n",
              "    40% {\n",
              "      border-color: transparent;\n",
              "      border-right-color: var(--fill-color);\n",
              "      border-top-color: var(--fill-color);\n",
              "    }\n",
              "    60% {\n",
              "      border-color: transparent;\n",
              "      border-right-color: var(--fill-color);\n",
              "    }\n",
              "    80% {\n",
              "      border-color: transparent;\n",
              "      border-right-color: var(--fill-color);\n",
              "      border-bottom-color: var(--fill-color);\n",
              "    }\n",
              "    90% {\n",
              "      border-color: transparent;\n",
              "      border-bottom-color: var(--fill-color);\n",
              "    }\n",
              "  }\n",
              "</style>\n",
              "\n",
              "  <script>\n",
              "    async function quickchart(key) {\n",
              "      const quickchartButtonEl =\n",
              "        document.querySelector('#' + key + ' button');\n",
              "      quickchartButtonEl.disabled = true;  // To prevent multiple clicks.\n",
              "      quickchartButtonEl.classList.add('colab-df-spinner');\n",
              "      try {\n",
              "        const charts = await google.colab.kernel.invokeFunction(\n",
              "            'suggestCharts', [key], {});\n",
              "      } catch (error) {\n",
              "        console.error('Error during call to suggestCharts:', error);\n",
              "      }\n",
              "      quickchartButtonEl.classList.remove('colab-df-spinner');\n",
              "      quickchartButtonEl.classList.add('colab-df-quickchart-complete');\n",
              "    }\n",
              "    (() => {\n",
              "      let quickchartButtonEl =\n",
              "        document.querySelector('#df-8bd74100-6c84-4578-93b5-988123a58121 button');\n",
              "      quickchartButtonEl.style.display =\n",
              "        google.colab.kernel.accessAllowed ? 'block' : 'none';\n",
              "    })();\n",
              "  </script>\n",
              "</div>\n",
              "    </div>\n",
              "  </div>\n"
            ],
            "text/plain": [
              "                Accuracy  Precision    Recall  F-Measure  10-Fold Cross (mean)\n",
              "SVM             0.405234   0.412102  0.405234   0.387452              0.894847\n",
              "Random Forests  0.441959   0.736155  0.441959   0.418921              0.893580\n",
              "KNN             0.446602   0.540254  0.446602   0.463155              0.871092"
            ]
          },
          "execution_count": 102,
          "metadata": {},
          "output_type": "execute_result"
        }
      ],
      "source": [
        "df_we"
      ]
    },
    {
      "cell_type": "markdown",
      "metadata": {
        "id": "WEQILSBXyqdi"
      },
      "source": [
        "# Similarity (Ερώτημα 3)"
      ]
    },
    {
      "cell_type": "code",
      "execution_count": 104,
      "metadata": {
        "colab": {
          "base_uri": "https://localhost:8080/"
        },
        "id": "5Sw6GzHWyrGr",
        "outputId": "bdc69695-a63a-488b-e7c6-6de85eeff59e"
      },
      "outputs": [
        {
          "name": "stdout",
          "output_type": "stream",
          "text": [
            "(11841, 3)\n"
          ]
        },
        {
          "name": "stderr",
          "output_type": "stream",
          "text": [
            "[nltk_data] Downloading package punkt to /root/nltk_data...\n",
            "[nltk_data]   Package punkt is already up-to-date!\n"
          ]
        },
        {
          "data": {
            "text/plain": [
              "(4978223, 5556260)"
            ]
          },
          "execution_count": 104,
          "metadata": {},
          "output_type": "execute_result"
        }
      ],
      "source": [
        "# Read cleaned data from file (~11000 reviews)\n",
        "sample_2023 = pd.read_csv('drive/MyDrive/comments2023_sentiment.csv')\n",
        "sample_2019 = pd.read_csv('drive/MyDrive/comments2019_sentiment.csv')\n",
        "\n",
        "sample = pd.concat([sample_2023, sample_2019], ignore_index=True, sort=False)\n",
        "sample.drop_duplicates(subset='id')\n",
        "print(sample.shape)\n",
        "\n",
        "sample = sample['comments']\n",
        "\n",
        "# Tokenization\n",
        "import nltk\n",
        "nltk.download('punkt')\n",
        "from nltk.tokenize import word_tokenize\n",
        "\n",
        "# tokenization: every sentence becomes a list of its words\n",
        "sample = sample.apply(nltk.word_tokenize)\n",
        "\n",
        "# create the word embeddings for all of them\n",
        "from gensim.models import Word2Vec\n",
        "import gensim\n",
        "\n",
        "word_embeddings = gensim.models.Word2Vec(min_count=1, vector_size=100, window=5)\n",
        "word_embeddings.build_vocab(sample)\n",
        "word_embeddings.train(sample, total_examples= len(sample), epochs=20)"
      ]
    },
    {
      "cell_type": "markdown",
      "metadata": {
        "id": "f_gfDXS5Bdrh"
      },
      "source": [
        "Δημιουργούμε ένα dataframe που, για κάθε ζύγος λέξεων (παίρνουμε τις 500 πιο συχνά χρησιμοποιούμενες) θα περιέχει το similarity τους (500x500)"
      ]
    },
    {
      "cell_type": "code",
      "execution_count": 105,
      "metadata": {
        "id": "iCPBniRtpzl0"
      },
      "outputs": [],
      "source": [
        "from gensim.models import Word2Vec\n",
        "from scipy import spatial\n",
        "\n",
        "# create a dictionary of each word and its vector representation\n",
        "word_to_vec = {}\n",
        "wordList = [] # each word in the vocabulary\n",
        "for word in word_embeddings.wv.key_to_index:\n",
        "  word_to_vec[word] = word_embeddings.wv[word]  # add a word:vector element\n",
        "  wordList.append(word)\n",
        "\n",
        "# top 500 most used words\n",
        "from collections import Counter\n",
        "word_freq = Counter(wordList)\n",
        "top_500 = word_freq.most_common(500)\n",
        "top_500 = [word for word, freq in top_500]\n",
        "\n",
        "# create similarity dataframe (each column is one of the 500 words)\n",
        "similarities = pd.DataFrame(columns=top_500)\n",
        "\n",
        "# fill the dataframe row by row\n",
        "# each row has a word as index, and the similarities as values\n",
        "for word in top_500:\n",
        "  cos = []\n",
        "  for word2 in top_500:\n",
        "    cos.append(1 - spatial.distance.cosine(word_to_vec[word], word_to_vec[word2]))  # cosine similarity\n",
        "  similarities.loc[len(similarities)] = cos\n",
        "similarities.index = top_500  # the words are the index"
      ]
    },
    {
      "cell_type": "markdown",
      "metadata": {
        "id": "x8ytJxlSClqO"
      },
      "source": [
        "Συνάρτηση που για 2 δοσμένες λέξεις, τυπώνει 3 διαφορετικές μετρικές σύγκρισης.\n",
        "Οι λέξεις πρέπει να ανήκουν στο vocablary και αν όχι, επιλέγονται τυχαίες.\n",
        "Υπάρχει επίσης η δυνατότητα να επιλεγούν τυχαία 2 λέξεις από το vocablary, με τον ορισμό του randomValues=True"
      ]
    },
    {
      "cell_type": "code",
      "execution_count": 106,
      "metadata": {
        "id": "ZMiTo9k4rCxJ"
      },
      "outputs": [],
      "source": [
        "def similarity_metrics(word1='apartment', word2='apt', N=2, randomValues=False):\n",
        "  import random\n",
        "  if word1 not in top_500:\n",
        "    word1 = random.choice(top_500)\n",
        "    print(\"WARNING: new word selected as word1 ->\", word1)\n",
        "  if word2 not in top_500:\n",
        "    word2 = random.choice(top_500)\n",
        "    print(\"WARNING: new word selected as word2 ->\", word2)\n",
        "\n",
        "  if randomValues:\n",
        "    word1 = random.choice(top_500)\n",
        "    word2 = random.choice(top_500)\n",
        "    print('Selected:', word1, word2);\n",
        "\n",
        "  # get the semantical neighbourhoods of the 2 words\n",
        "  N1 = similarities.loc[word1].sort_values(ascending=False) # first the index, then the column\n",
        "  N1 = N1.head(N+1) # the N+1 most similar words (including word1)\n",
        "  N1 = N1.drop(N1.index[0]) # remove word1 (similarity = 1)\n",
        "\n",
        "  N2 = similarities.loc[word2].sort_values(ascending=False) # first the index, then the column\n",
        "  N2 = N2.head(N+1) # the N+1 most similar words (including word2)\n",
        "  N2 = N2.drop(N2.index[0]) # remove word2, (similariy = 1)\n",
        "\n",
        "  maxList = []\n",
        "  # find the max similarity between word2 and semantic neighbourhood of word1\n",
        "  for indx, itm in zip(N1.index, N1.to_numpy()):\n",
        "    maxList.append(similarities.loc[word2, indx])\n",
        "  # find the max similarity between word1 and semantic neighbourhood of word2\n",
        "  for indx, itm in zip(N2.index, N2.to_numpy()):\n",
        "    maxList.append(similarities.loc[word1, indx])\n",
        "  print(\"Maximum similarity of neighborhoods:\", max(maxList))\n",
        "\n",
        "  C1_N1 = []\n",
        "  C1_N2 = []\n",
        "  C2_N1 = []\n",
        "  C2_N2 = []\n",
        "  # find the max similarity between word1 and semantic neighbourhood of word1\n",
        "  for indx, itm in zip(N1.index, N1.to_numpy()):\n",
        "    C1_N1.append(similarities.loc[word1, indx])\n",
        "  # find the max similarity between word1 and semantic neighbourhood of word2\n",
        "  for indx, itm in zip(N2.index, N2.to_numpy()):\n",
        "    C1_N2.append(similarities.loc[word1, indx])\n",
        "  # find the max similarity between word2 and semantic neighbourhood of word1\n",
        "  for indx, itm in zip(N1.index, N1.to_numpy()):\n",
        "    C2_N1.append(similarities.loc[word2, indx])\n",
        "  # find the max similarity between word2 and semantic neighbourhood of word2\n",
        "  for indx, itm in zip(N2.index, N2.to_numpy()):\n",
        "    C2_N2.append(similarities.loc[word2, indx])\n",
        "\n",
        "  pearsonList = []\n",
        "  from scipy.stats import pearsonr\n",
        "  b12, _ = pearsonr(C1_N1, C2_N1)\n",
        "  pearsonList.append(b12)\n",
        "  b21, _ = pearsonr(C1_N2, C2_N2)\n",
        "  pearsonList.append(b21)\n",
        "  print(\"Correlation of neighborhood similarities:\", max(pearsonList))\n",
        "\n",
        "  sqares = []\n",
        "  # find the max similarity between word2 and semantic neighbourhood of word1\n",
        "  for indx, itm in zip(N1.index, N1.to_numpy()):\n",
        "    sqares.append(pow(similarities.loc[word2, indx], 2))\n",
        "  # find the max similarity between word1 and semantic neighbourhood of word2\n",
        "  for indx, itm in zip(N2.index, N2.to_numpy()):\n",
        "    sqares.append(pow(similarities.loc[word1, indx], 2))\n",
        "\n",
        "  sum = 0;\n",
        "  for val in sqares:  # sum of sqares\n",
        "    sum += val\n",
        "\n",
        "  import math\n",
        "  print(\"Sum of sqared neighborhood similarities:\", math.sqrt(sum))\n",
        "\n",
        "  print('\\n')\n",
        "  # print(N1)\n",
        "  # print(N2)"
      ]
    },
    {
      "cell_type": "code",
      "execution_count": 107,
      "metadata": {
        "colab": {
          "base_uri": "https://localhost:8080/"
        },
        "id": "OASvKzEr0vUl",
        "outputId": "bdc71776-0c1d-4fbc-f654-441febe1f563"
      },
      "outputs": [
        {
          "name": "stdout",
          "output_type": "stream",
          "text": [
            "Maximum similarity of neighborhoods: 0.43417027592658997\n",
            "Correlation of neighborhood similarities: 1.0\n",
            "Sum of sqared neighborhood similarities: 0.8224757682519125\n",
            "\n",
            "\n",
            "Maximum similarity of neighborhoods: 0.43417027592658997\n",
            "Correlation of neighborhood similarities: 0.987853079607317\n",
            "Sum of sqared neighborhood similarities: 0.9366964392503192\n",
            "\n",
            "\n",
            "Maximum similarity of neighborhoods: 0.4953792691230774\n",
            "Correlation of neighborhood similarities: 0.9814982545787372\n",
            "Sum of sqared neighborhood similarities: 1.080976913557477\n",
            "\n",
            "\n",
            "Maximum similarity of neighborhoods: 0.5852590203285217\n",
            "Correlation of neighborhood similarities: 0.6095453266686853\n",
            "Sum of sqared neighborhood similarities: 1.293459423644883\n",
            "\n",
            "\n",
            "Maximum similarity of neighborhoods: 0.5852590203285217\n",
            "Correlation of neighborhood similarities: 0.30530817886982126\n",
            "Sum of sqared neighborhood similarities: 1.7820121665706186\n",
            "\n",
            "\n",
            "Maximum similarity of neighborhoods: 0.5852590203285217\n",
            "Correlation of neighborhood similarities: -0.041540153261464985\n",
            "Sum of sqared neighborhood similarities: 2.7181949530371066\n",
            "\n",
            "\n"
          ]
        }
      ],
      "source": [
        "similarity_metrics(word1='view', word2='apartment', N=2)\n",
        "similarity_metrics(word1='view', word2='apartment', N=3)\n",
        "similarity_metrics(word1='view', word2='apartment', N=4)\n",
        "similarity_metrics(word1='view', word2='apartment', N=5)\n",
        "similarity_metrics(word1='view', word2='apartment', N=10)\n",
        "similarity_metrics(word1='view', word2='apartment', N=20)"
      ]
    },
    {
      "cell_type": "markdown",
      "metadata": {
        "id": "-A4DXKs11Q1C"
      },
      "source": [
        "Παρατηρούμε ότι, όσο αυξάνεται το N:\n",
        "- το maximum similarity της λέξης 2 με τη γειτονιά της λέξης 1 αυξάνεται ή μένει ίδιο, καθώς περιλαμβάνονται περισσότερες λέξεις που πιθανόν είναι πιο κοντά στην λέξη 2.   \n",
        "- το cross similarity σταδιακά μειώνεται αφού η συσχέτιση των ομοιοτήτων της λέξης 1 με τη γειτονιά της και τη γειτονιά της λέξης 2 (και αντίστροφα για το άλλο correlation) λογικά μειώνεται όσο προστίθενται κι άλλες, λιγότερο σχετικές λέξεις στην σημασιολογική της γειτονιά.\n",
        "- το sum of similarities όπως είναι λογικό αυξάνεται, διότι μεγαλώνει η σημασιολογική γειτονιά άρα και οι όροι του αθροίσματος που θα υψωθούν στο τετράγωνο είναι περισσότεροι."
      ]
    },
    {
      "cell_type": "markdown",
      "metadata": {
        "id": "MfJODPHe3F5O"
      },
      "source": [
        "Μερικά ακόμα παραδείγματα:"
      ]
    },
    {
      "cell_type": "code",
      "execution_count": 108,
      "metadata": {
        "colab": {
          "base_uri": "https://localhost:8080/"
        },
        "id": "riKN34CR3Frm",
        "outputId": "cd28dbbd-620c-4b64-af87-b8bdec102761"
      },
      "outputs": [
        {
          "name": "stdout",
          "output_type": "stream",
          "text": [
            "Maximum similarity of neighborhoods: 0.21035200357437134\n",
            "Correlation of neighborhood similarities: 0.5384767609937511\n",
            "Sum of sqared neighborhood similarities: 0.4998071367631123\n",
            "\n",
            "\n",
            "Maximum similarity of neighborhoods: 0.16802217066287994\n",
            "Correlation of neighborhood similarities: 0.2221516958296707\n",
            "Sum of sqared neighborhood similarities: 0.45818294898431133\n",
            "\n",
            "\n"
          ]
        }
      ],
      "source": [
        "similarity_metrics(word1='host', word2='downtown', N=6)  # not so related words\n",
        "similarity_metrics(word1='steps', word2='owners', N=6)  # not so related words"
      ]
    },
    {
      "cell_type": "code",
      "execution_count": 109,
      "metadata": {
        "colab": {
          "base_uri": "https://localhost:8080/"
        },
        "id": "bO5AYg3Q3iuM",
        "outputId": "1073fafc-006c-42e8-97fc-8eec24d86b0d"
      },
      "outputs": [
        {
          "name": "stdout",
          "output_type": "stream",
          "text": [
            "Maximum similarity of neighborhoods: 1.0\n",
            "Correlation of neighborhood similarities: 0.9139855191091691\n",
            "Sum of sqared neighborhood similarities: 2.595763547207887\n",
            "\n",
            "\n",
            "Maximum similarity of neighborhoods: 0.7039975523948669\n",
            "Correlation of neighborhood similarities: 1.0\n",
            "Sum of sqared neighborhood similarities: 1.1974252684553819\n",
            "\n",
            "\n"
          ]
        }
      ],
      "source": [
        "similarity_metrics(word1='apartment', word2='flat', N=6)  # related words (flat is in the neigbourhood of apartment and vice versa)\n",
        "similarity_metrics(word1='athens', word2='life', N=2)  # related words"
      ]
    },
    {
      "cell_type": "code",
      "execution_count": 110,
      "metadata": {
        "colab": {
          "base_uri": "https://localhost:8080/"
        },
        "id": "nZ-hBFdU57Uu",
        "outputId": "ad09a01e-36f7-425c-e42e-585f9bf3a700"
      },
      "outputs": [
        {
          "name": "stdout",
          "output_type": "stream",
          "text": [
            "Selected: sehr maria\n",
            "Maximum similarity of neighborhoods: 0.06292630732059479\n",
            "Correlation of neighborhood similarities: 0.8882404677868931\n",
            "Sum of sqared neighborhood similarities: 0.08818344710005271\n",
            "\n",
            "\n"
          ]
        }
      ],
      "source": [
        "similarity_metrics(N=3, randomValues=True)"
      ]
    }
  ],
  "metadata": {
    "colab": {
      "collapsed_sections": [
        "E15S7WcwTOAd",
        "Kz51JkQRTKzG",
        "uKqXZPqydqHI",
        "WEQILSBXyqdi"
      ],
      "provenance": []
    },
    "kernelspec": {
      "display_name": "Python 3",
      "name": "python3"
    },
    "language_info": {
      "name": "python"
    },
    "widgets": {
      "application/vnd.jupyter.widget-state+json": {
        "08506a64203448d59e72005cba5f9b7d": {
          "model_module": "@jupyter-widgets/base",
          "model_module_version": "1.2.0",
          "model_name": "LayoutModel",
          "state": {
            "_model_module": "@jupyter-widgets/base",
            "_model_module_version": "1.2.0",
            "_model_name": "LayoutModel",
            "_view_count": null,
            "_view_module": "@jupyter-widgets/base",
            "_view_module_version": "1.2.0",
            "_view_name": "LayoutView",
            "align_content": null,
            "align_items": null,
            "align_self": null,
            "border": null,
            "bottom": null,
            "display": null,
            "flex": null,
            "flex_flow": null,
            "grid_area": null,
            "grid_auto_columns": null,
            "grid_auto_flow": null,
            "grid_auto_rows": null,
            "grid_column": null,
            "grid_gap": null,
            "grid_row": null,
            "grid_template_areas": null,
            "grid_template_columns": null,
            "grid_template_rows": null,
            "height": null,
            "justify_content": null,
            "justify_items": null,
            "left": null,
            "margin": null,
            "max_height": null,
            "max_width": null,
            "min_height": null,
            "min_width": null,
            "object_fit": null,
            "object_position": null,
            "order": null,
            "overflow": null,
            "overflow_x": null,
            "overflow_y": null,
            "padding": null,
            "right": null,
            "top": null,
            "visibility": null,
            "width": null
          }
        },
        "09eaae1bd6fe4f6ca80bc94d2e878591": {
          "model_module": "@jupyter-widgets/controls",
          "model_module_version": "1.5.0",
          "model_name": "HTMLModel",
          "state": {
            "_dom_classes": [],
            "_model_module": "@jupyter-widgets/controls",
            "_model_module_version": "1.5.0",
            "_model_name": "HTMLModel",
            "_view_count": null,
            "_view_module": "@jupyter-widgets/controls",
            "_view_module_version": "1.5.0",
            "_view_name": "HTMLView",
            "description": "",
            "description_tooltip": null,
            "layout": "IPY_MODEL_2a1e04722b1d47878fdd863573984d71",
            "placeholder": "​",
            "style": "IPY_MODEL_19725349a2bb4bc788d853dfc7a48524",
            "value": "config.json: 100%"
          }
        },
        "0b4456d3220b4e2e95eb2aa196002724": {
          "model_module": "@jupyter-widgets/controls",
          "model_module_version": "1.5.0",
          "model_name": "HBoxModel",
          "state": {
            "_dom_classes": [],
            "_model_module": "@jupyter-widgets/controls",
            "_model_module_version": "1.5.0",
            "_model_name": "HBoxModel",
            "_view_count": null,
            "_view_module": "@jupyter-widgets/controls",
            "_view_module_version": "1.5.0",
            "_view_name": "HBoxView",
            "box_style": "",
            "children": [
              "IPY_MODEL_09eaae1bd6fe4f6ca80bc94d2e878591",
              "IPY_MODEL_9c71f282158340838b0283bce24642a9",
              "IPY_MODEL_1cbb2a2b2db7459588549c3253274ee1"
            ],
            "layout": "IPY_MODEL_7400072c8e344658961f446cf8b00c6b"
          }
        },
        "0dd0f68dea3d481d910337fa8c713054": {
          "model_module": "@jupyter-widgets/controls",
          "model_module_version": "1.5.0",
          "model_name": "DescriptionStyleModel",
          "state": {
            "_model_module": "@jupyter-widgets/controls",
            "_model_module_version": "1.5.0",
            "_model_name": "DescriptionStyleModel",
            "_view_count": null,
            "_view_module": "@jupyter-widgets/base",
            "_view_module_version": "1.2.0",
            "_view_name": "StyleView",
            "description_width": ""
          }
        },
        "167337dcd4ea4841935a7328374a86b3": {
          "model_module": "@jupyter-widgets/base",
          "model_module_version": "1.2.0",
          "model_name": "LayoutModel",
          "state": {
            "_model_module": "@jupyter-widgets/base",
            "_model_module_version": "1.2.0",
            "_model_name": "LayoutModel",
            "_view_count": null,
            "_view_module": "@jupyter-widgets/base",
            "_view_module_version": "1.2.0",
            "_view_name": "LayoutView",
            "align_content": null,
            "align_items": null,
            "align_self": null,
            "border": null,
            "bottom": null,
            "display": null,
            "flex": null,
            "flex_flow": null,
            "grid_area": null,
            "grid_auto_columns": null,
            "grid_auto_flow": null,
            "grid_auto_rows": null,
            "grid_column": null,
            "grid_gap": null,
            "grid_row": null,
            "grid_template_areas": null,
            "grid_template_columns": null,
            "grid_template_rows": null,
            "height": null,
            "justify_content": null,
            "justify_items": null,
            "left": null,
            "margin": null,
            "max_height": null,
            "max_width": null,
            "min_height": null,
            "min_width": null,
            "object_fit": null,
            "object_position": null,
            "order": null,
            "overflow": null,
            "overflow_x": null,
            "overflow_y": null,
            "padding": null,
            "right": null,
            "top": null,
            "visibility": null,
            "width": null
          }
        },
        "18bd1f5fdc9a490f8afe955a393bf850": {
          "model_module": "@jupyter-widgets/controls",
          "model_module_version": "1.5.0",
          "model_name": "HTMLModel",
          "state": {
            "_dom_classes": [],
            "_model_module": "@jupyter-widgets/controls",
            "_model_module_version": "1.5.0",
            "_model_name": "HTMLModel",
            "_view_count": null,
            "_view_module": "@jupyter-widgets/controls",
            "_view_module_version": "1.5.0",
            "_view_name": "HTMLView",
            "description": "",
            "description_tooltip": null,
            "layout": "IPY_MODEL_4ed8b08a36c149e2843be893312a7b1f",
            "placeholder": "​",
            "style": "IPY_MODEL_a74d7419343b41b99be6216d365140aa",
            "value": " 456k/456k [00:00&lt;00:00, 19.1MB/s]"
          }
        },
        "18e153d1f6c24c38ad81d782d3c9509a": {
          "model_module": "@jupyter-widgets/controls",
          "model_module_version": "1.5.0",
          "model_name": "FloatProgressModel",
          "state": {
            "_dom_classes": [],
            "_model_module": "@jupyter-widgets/controls",
            "_model_module_version": "1.5.0",
            "_model_name": "FloatProgressModel",
            "_view_count": null,
            "_view_module": "@jupyter-widgets/controls",
            "_view_module_version": "1.5.0",
            "_view_name": "ProgressView",
            "bar_style": "success",
            "description": "",
            "description_tooltip": null,
            "layout": "IPY_MODEL_288c6b9cce9f4b82989492dd48976b80",
            "max": 239,
            "min": 0,
            "orientation": "horizontal",
            "style": "IPY_MODEL_d45748a45a8f4697b46596a5e73397f9",
            "value": 239
          }
        },
        "19725349a2bb4bc788d853dfc7a48524": {
          "model_module": "@jupyter-widgets/controls",
          "model_module_version": "1.5.0",
          "model_name": "DescriptionStyleModel",
          "state": {
            "_model_module": "@jupyter-widgets/controls",
            "_model_module_version": "1.5.0",
            "_model_name": "DescriptionStyleModel",
            "_view_count": null,
            "_view_module": "@jupyter-widgets/base",
            "_view_module_version": "1.2.0",
            "_view_name": "StyleView",
            "description_width": ""
          }
        },
        "1b5a1f45c7834f1ca13b4a69ee957bf7": {
          "model_module": "@jupyter-widgets/controls",
          "model_module_version": "1.5.0",
          "model_name": "ProgressStyleModel",
          "state": {
            "_model_module": "@jupyter-widgets/controls",
            "_model_module_version": "1.5.0",
            "_model_name": "ProgressStyleModel",
            "_view_count": null,
            "_view_module": "@jupyter-widgets/base",
            "_view_module_version": "1.2.0",
            "_view_name": "StyleView",
            "bar_color": null,
            "description_width": ""
          }
        },
        "1cbb2a2b2db7459588549c3253274ee1": {
          "model_module": "@jupyter-widgets/controls",
          "model_module_version": "1.5.0",
          "model_name": "HTMLModel",
          "state": {
            "_dom_classes": [],
            "_model_module": "@jupyter-widgets/controls",
            "_model_module_version": "1.5.0",
            "_model_name": "HTMLModel",
            "_view_count": null,
            "_view_module": "@jupyter-widgets/controls",
            "_view_module_version": "1.5.0",
            "_view_name": "HTMLView",
            "description": "",
            "description_tooltip": null,
            "layout": "IPY_MODEL_24a4d5d50426482a9cb8f1d0ee29c07f",
            "placeholder": "​",
            "style": "IPY_MODEL_d1b44ad2cff24612875bcb4c33666270",
            "value": " 929/929 [00:00&lt;00:00, 49.1kB/s]"
          }
        },
        "21e6251f7880446ca2c0e1fbfed0c018": {
          "model_module": "@jupyter-widgets/base",
          "model_module_version": "1.2.0",
          "model_name": "LayoutModel",
          "state": {
            "_model_module": "@jupyter-widgets/base",
            "_model_module_version": "1.2.0",
            "_model_name": "LayoutModel",
            "_view_count": null,
            "_view_module": "@jupyter-widgets/base",
            "_view_module_version": "1.2.0",
            "_view_name": "LayoutView",
            "align_content": null,
            "align_items": null,
            "align_self": null,
            "border": null,
            "bottom": null,
            "display": null,
            "flex": null,
            "flex_flow": null,
            "grid_area": null,
            "grid_auto_columns": null,
            "grid_auto_flow": null,
            "grid_auto_rows": null,
            "grid_column": null,
            "grid_gap": null,
            "grid_row": null,
            "grid_template_areas": null,
            "grid_template_columns": null,
            "grid_template_rows": null,
            "height": null,
            "justify_content": null,
            "justify_items": null,
            "left": null,
            "margin": null,
            "max_height": null,
            "max_width": null,
            "min_height": null,
            "min_width": null,
            "object_fit": null,
            "object_position": null,
            "order": null,
            "overflow": null,
            "overflow_x": null,
            "overflow_y": null,
            "padding": null,
            "right": null,
            "top": null,
            "visibility": null,
            "width": null
          }
        },
        "24a4d5d50426482a9cb8f1d0ee29c07f": {
          "model_module": "@jupyter-widgets/base",
          "model_module_version": "1.2.0",
          "model_name": "LayoutModel",
          "state": {
            "_model_module": "@jupyter-widgets/base",
            "_model_module_version": "1.2.0",
            "_model_name": "LayoutModel",
            "_view_count": null,
            "_view_module": "@jupyter-widgets/base",
            "_view_module_version": "1.2.0",
            "_view_name": "LayoutView",
            "align_content": null,
            "align_items": null,
            "align_self": null,
            "border": null,
            "bottom": null,
            "display": null,
            "flex": null,
            "flex_flow": null,
            "grid_area": null,
            "grid_auto_columns": null,
            "grid_auto_flow": null,
            "grid_auto_rows": null,
            "grid_column": null,
            "grid_gap": null,
            "grid_row": null,
            "grid_template_areas": null,
            "grid_template_columns": null,
            "grid_template_rows": null,
            "height": null,
            "justify_content": null,
            "justify_items": null,
            "left": null,
            "margin": null,
            "max_height": null,
            "max_width": null,
            "min_height": null,
            "min_width": null,
            "object_fit": null,
            "object_position": null,
            "order": null,
            "overflow": null,
            "overflow_x": null,
            "overflow_y": null,
            "padding": null,
            "right": null,
            "top": null,
            "visibility": null,
            "width": null
          }
        },
        "288c6b9cce9f4b82989492dd48976b80": {
          "model_module": "@jupyter-widgets/base",
          "model_module_version": "1.2.0",
          "model_name": "LayoutModel",
          "state": {
            "_model_module": "@jupyter-widgets/base",
            "_model_module_version": "1.2.0",
            "_model_name": "LayoutModel",
            "_view_count": null,
            "_view_module": "@jupyter-widgets/base",
            "_view_module_version": "1.2.0",
            "_view_name": "LayoutView",
            "align_content": null,
            "align_items": null,
            "align_self": null,
            "border": null,
            "bottom": null,
            "display": null,
            "flex": null,
            "flex_flow": null,
            "grid_area": null,
            "grid_auto_columns": null,
            "grid_auto_flow": null,
            "grid_auto_rows": null,
            "grid_column": null,
            "grid_gap": null,
            "grid_row": null,
            "grid_template_areas": null,
            "grid_template_columns": null,
            "grid_template_rows": null,
            "height": null,
            "justify_content": null,
            "justify_items": null,
            "left": null,
            "margin": null,
            "max_height": null,
            "max_width": null,
            "min_height": null,
            "min_width": null,
            "object_fit": null,
            "object_position": null,
            "order": null,
            "overflow": null,
            "overflow_x": null,
            "overflow_y": null,
            "padding": null,
            "right": null,
            "top": null,
            "visibility": null,
            "width": null
          }
        },
        "2a1e04722b1d47878fdd863573984d71": {
          "model_module": "@jupyter-widgets/base",
          "model_module_version": "1.2.0",
          "model_name": "LayoutModel",
          "state": {
            "_model_module": "@jupyter-widgets/base",
            "_model_module_version": "1.2.0",
            "_model_name": "LayoutModel",
            "_view_count": null,
            "_view_module": "@jupyter-widgets/base",
            "_view_module_version": "1.2.0",
            "_view_name": "LayoutView",
            "align_content": null,
            "align_items": null,
            "align_self": null,
            "border": null,
            "bottom": null,
            "display": null,
            "flex": null,
            "flex_flow": null,
            "grid_area": null,
            "grid_auto_columns": null,
            "grid_auto_flow": null,
            "grid_auto_rows": null,
            "grid_column": null,
            "grid_gap": null,
            "grid_row": null,
            "grid_template_areas": null,
            "grid_template_columns": null,
            "grid_template_rows": null,
            "height": null,
            "justify_content": null,
            "justify_items": null,
            "left": null,
            "margin": null,
            "max_height": null,
            "max_width": null,
            "min_height": null,
            "min_width": null,
            "object_fit": null,
            "object_position": null,
            "order": null,
            "overflow": null,
            "overflow_x": null,
            "overflow_y": null,
            "padding": null,
            "right": null,
            "top": null,
            "visibility": null,
            "width": null
          }
        },
        "3b4a59316b4a47e3959c04f59dabf298": {
          "model_module": "@jupyter-widgets/controls",
          "model_module_version": "1.5.0",
          "model_name": "HTMLModel",
          "state": {
            "_dom_classes": [],
            "_model_module": "@jupyter-widgets/controls",
            "_model_module_version": "1.5.0",
            "_model_name": "HTMLModel",
            "_view_count": null,
            "_view_module": "@jupyter-widgets/controls",
            "_view_module_version": "1.5.0",
            "_view_name": "HTMLView",
            "description": "",
            "description_tooltip": null,
            "layout": "IPY_MODEL_21e6251f7880446ca2c0e1fbfed0c018",
            "placeholder": "​",
            "style": "IPY_MODEL_ab0ca8c0a6d647a9b48b2667e77af938",
            "value": " 899k/899k [00:00&lt;00:00, 17.4MB/s]"
          }
        },
        "408b0c2f625448abab760cdb2aced0be": {
          "model_module": "@jupyter-widgets/base",
          "model_module_version": "1.2.0",
          "model_name": "LayoutModel",
          "state": {
            "_model_module": "@jupyter-widgets/base",
            "_model_module_version": "1.2.0",
            "_model_name": "LayoutModel",
            "_view_count": null,
            "_view_module": "@jupyter-widgets/base",
            "_view_module_version": "1.2.0",
            "_view_name": "LayoutView",
            "align_content": null,
            "align_items": null,
            "align_self": null,
            "border": null,
            "bottom": null,
            "display": null,
            "flex": null,
            "flex_flow": null,
            "grid_area": null,
            "grid_auto_columns": null,
            "grid_auto_flow": null,
            "grid_auto_rows": null,
            "grid_column": null,
            "grid_gap": null,
            "grid_row": null,
            "grid_template_areas": null,
            "grid_template_columns": null,
            "grid_template_rows": null,
            "height": null,
            "justify_content": null,
            "justify_items": null,
            "left": null,
            "margin": null,
            "max_height": null,
            "max_width": null,
            "min_height": null,
            "min_width": null,
            "object_fit": null,
            "object_position": null,
            "order": null,
            "overflow": null,
            "overflow_x": null,
            "overflow_y": null,
            "padding": null,
            "right": null,
            "top": null,
            "visibility": null,
            "width": null
          }
        },
        "49b7cc2b49744f539075780e4f44903f": {
          "model_module": "@jupyter-widgets/base",
          "model_module_version": "1.2.0",
          "model_name": "LayoutModel",
          "state": {
            "_model_module": "@jupyter-widgets/base",
            "_model_module_version": "1.2.0",
            "_model_name": "LayoutModel",
            "_view_count": null,
            "_view_module": "@jupyter-widgets/base",
            "_view_module_version": "1.2.0",
            "_view_name": "LayoutView",
            "align_content": null,
            "align_items": null,
            "align_self": null,
            "border": null,
            "bottom": null,
            "display": null,
            "flex": null,
            "flex_flow": null,
            "grid_area": null,
            "grid_auto_columns": null,
            "grid_auto_flow": null,
            "grid_auto_rows": null,
            "grid_column": null,
            "grid_gap": null,
            "grid_row": null,
            "grid_template_areas": null,
            "grid_template_columns": null,
            "grid_template_rows": null,
            "height": null,
            "justify_content": null,
            "justify_items": null,
            "left": null,
            "margin": null,
            "max_height": null,
            "max_width": null,
            "min_height": null,
            "min_width": null,
            "object_fit": null,
            "object_position": null,
            "order": null,
            "overflow": null,
            "overflow_x": null,
            "overflow_y": null,
            "padding": null,
            "right": null,
            "top": null,
            "visibility": null,
            "width": null
          }
        },
        "49eb4727326e495782cc6b2b77972efd": {
          "model_module": "@jupyter-widgets/controls",
          "model_module_version": "1.5.0",
          "model_name": "FloatProgressModel",
          "state": {
            "_dom_classes": [],
            "_model_module": "@jupyter-widgets/controls",
            "_model_module_version": "1.5.0",
            "_model_name": "FloatProgressModel",
            "_view_count": null,
            "_view_module": "@jupyter-widgets/controls",
            "_view_module_version": "1.5.0",
            "_view_name": "ProgressView",
            "bar_style": "success",
            "description": "",
            "description_tooltip": null,
            "layout": "IPY_MODEL_6c3e237f9d48409993d0ca828d4e54bc",
            "max": 898822,
            "min": 0,
            "orientation": "horizontal",
            "style": "IPY_MODEL_1b5a1f45c7834f1ca13b4a69ee957bf7",
            "value": 898822
          }
        },
        "4ed8b08a36c149e2843be893312a7b1f": {
          "model_module": "@jupyter-widgets/base",
          "model_module_version": "1.2.0",
          "model_name": "LayoutModel",
          "state": {
            "_model_module": "@jupyter-widgets/base",
            "_model_module_version": "1.2.0",
            "_model_name": "LayoutModel",
            "_view_count": null,
            "_view_module": "@jupyter-widgets/base",
            "_view_module_version": "1.2.0",
            "_view_name": "LayoutView",
            "align_content": null,
            "align_items": null,
            "align_self": null,
            "border": null,
            "bottom": null,
            "display": null,
            "flex": null,
            "flex_flow": null,
            "grid_area": null,
            "grid_auto_columns": null,
            "grid_auto_flow": null,
            "grid_auto_rows": null,
            "grid_column": null,
            "grid_gap": null,
            "grid_row": null,
            "grid_template_areas": null,
            "grid_template_columns": null,
            "grid_template_rows": null,
            "height": null,
            "justify_content": null,
            "justify_items": null,
            "left": null,
            "margin": null,
            "max_height": null,
            "max_width": null,
            "min_height": null,
            "min_width": null,
            "object_fit": null,
            "object_position": null,
            "order": null,
            "overflow": null,
            "overflow_x": null,
            "overflow_y": null,
            "padding": null,
            "right": null,
            "top": null,
            "visibility": null,
            "width": null
          }
        },
        "52087eb81d6c443ea813fd4941ea0438": {
          "model_module": "@jupyter-widgets/controls",
          "model_module_version": "1.5.0",
          "model_name": "HBoxModel",
          "state": {
            "_dom_classes": [],
            "_model_module": "@jupyter-widgets/controls",
            "_model_module_version": "1.5.0",
            "_model_name": "HBoxModel",
            "_view_count": null,
            "_view_module": "@jupyter-widgets/controls",
            "_view_module_version": "1.5.0",
            "_view_name": "HBoxView",
            "box_style": "",
            "children": [
              "IPY_MODEL_bff04468775149a6b539d7d2133574e4",
              "IPY_MODEL_a425e8185e964333a29b81e1e71ee813",
              "IPY_MODEL_9efee3a7c8934d77b1377b421e9ec11d"
            ],
            "layout": "IPY_MODEL_08506a64203448d59e72005cba5f9b7d"
          }
        },
        "654b64fd7a964e92ab8d4c7784ca81ad": {
          "model_module": "@jupyter-widgets/base",
          "model_module_version": "1.2.0",
          "model_name": "LayoutModel",
          "state": {
            "_model_module": "@jupyter-widgets/base",
            "_model_module_version": "1.2.0",
            "_model_name": "LayoutModel",
            "_view_count": null,
            "_view_module": "@jupyter-widgets/base",
            "_view_module_version": "1.2.0",
            "_view_name": "LayoutView",
            "align_content": null,
            "align_items": null,
            "align_self": null,
            "border": null,
            "bottom": null,
            "display": null,
            "flex": null,
            "flex_flow": null,
            "grid_area": null,
            "grid_auto_columns": null,
            "grid_auto_flow": null,
            "grid_auto_rows": null,
            "grid_column": null,
            "grid_gap": null,
            "grid_row": null,
            "grid_template_areas": null,
            "grid_template_columns": null,
            "grid_template_rows": null,
            "height": null,
            "justify_content": null,
            "justify_items": null,
            "left": null,
            "margin": null,
            "max_height": null,
            "max_width": null,
            "min_height": null,
            "min_width": null,
            "object_fit": null,
            "object_position": null,
            "order": null,
            "overflow": null,
            "overflow_x": null,
            "overflow_y": null,
            "padding": null,
            "right": null,
            "top": null,
            "visibility": null,
            "width": null
          }
        },
        "6c3e237f9d48409993d0ca828d4e54bc": {
          "model_module": "@jupyter-widgets/base",
          "model_module_version": "1.2.0",
          "model_name": "LayoutModel",
          "state": {
            "_model_module": "@jupyter-widgets/base",
            "_model_module_version": "1.2.0",
            "_model_name": "LayoutModel",
            "_view_count": null,
            "_view_module": "@jupyter-widgets/base",
            "_view_module_version": "1.2.0",
            "_view_name": "LayoutView",
            "align_content": null,
            "align_items": null,
            "align_self": null,
            "border": null,
            "bottom": null,
            "display": null,
            "flex": null,
            "flex_flow": null,
            "grid_area": null,
            "grid_auto_columns": null,
            "grid_auto_flow": null,
            "grid_auto_rows": null,
            "grid_column": null,
            "grid_gap": null,
            "grid_row": null,
            "grid_template_areas": null,
            "grid_template_columns": null,
            "grid_template_rows": null,
            "height": null,
            "justify_content": null,
            "justify_items": null,
            "left": null,
            "margin": null,
            "max_height": null,
            "max_width": null,
            "min_height": null,
            "min_width": null,
            "object_fit": null,
            "object_position": null,
            "order": null,
            "overflow": null,
            "overflow_x": null,
            "overflow_y": null,
            "padding": null,
            "right": null,
            "top": null,
            "visibility": null,
            "width": null
          }
        },
        "7400072c8e344658961f446cf8b00c6b": {
          "model_module": "@jupyter-widgets/base",
          "model_module_version": "1.2.0",
          "model_name": "LayoutModel",
          "state": {
            "_model_module": "@jupyter-widgets/base",
            "_model_module_version": "1.2.0",
            "_model_name": "LayoutModel",
            "_view_count": null,
            "_view_module": "@jupyter-widgets/base",
            "_view_module_version": "1.2.0",
            "_view_name": "LayoutView",
            "align_content": null,
            "align_items": null,
            "align_self": null,
            "border": null,
            "bottom": null,
            "display": null,
            "flex": null,
            "flex_flow": null,
            "grid_area": null,
            "grid_auto_columns": null,
            "grid_auto_flow": null,
            "grid_auto_rows": null,
            "grid_column": null,
            "grid_gap": null,
            "grid_row": null,
            "grid_template_areas": null,
            "grid_template_columns": null,
            "grid_template_rows": null,
            "height": null,
            "justify_content": null,
            "justify_items": null,
            "left": null,
            "margin": null,
            "max_height": null,
            "max_width": null,
            "min_height": null,
            "min_width": null,
            "object_fit": null,
            "object_position": null,
            "order": null,
            "overflow": null,
            "overflow_x": null,
            "overflow_y": null,
            "padding": null,
            "right": null,
            "top": null,
            "visibility": null,
            "width": null
          }
        },
        "7ee8c475fe664882922b528a3e6bfab2": {
          "model_module": "@jupyter-widgets/base",
          "model_module_version": "1.2.0",
          "model_name": "LayoutModel",
          "state": {
            "_model_module": "@jupyter-widgets/base",
            "_model_module_version": "1.2.0",
            "_model_name": "LayoutModel",
            "_view_count": null,
            "_view_module": "@jupyter-widgets/base",
            "_view_module_version": "1.2.0",
            "_view_name": "LayoutView",
            "align_content": null,
            "align_items": null,
            "align_self": null,
            "border": null,
            "bottom": null,
            "display": null,
            "flex": null,
            "flex_flow": null,
            "grid_area": null,
            "grid_auto_columns": null,
            "grid_auto_flow": null,
            "grid_auto_rows": null,
            "grid_column": null,
            "grid_gap": null,
            "grid_row": null,
            "grid_template_areas": null,
            "grid_template_columns": null,
            "grid_template_rows": null,
            "height": null,
            "justify_content": null,
            "justify_items": null,
            "left": null,
            "margin": null,
            "max_height": null,
            "max_width": null,
            "min_height": null,
            "min_width": null,
            "object_fit": null,
            "object_position": null,
            "order": null,
            "overflow": null,
            "overflow_x": null,
            "overflow_y": null,
            "padding": null,
            "right": null,
            "top": null,
            "visibility": null,
            "width": null
          }
        },
        "82730f2264b54de09a1cf4c9968fed1c": {
          "model_module": "@jupyter-widgets/controls",
          "model_module_version": "1.5.0",
          "model_name": "DescriptionStyleModel",
          "state": {
            "_model_module": "@jupyter-widgets/controls",
            "_model_module_version": "1.5.0",
            "_model_name": "DescriptionStyleModel",
            "_view_count": null,
            "_view_module": "@jupyter-widgets/base",
            "_view_module_version": "1.2.0",
            "_view_name": "StyleView",
            "description_width": ""
          }
        },
        "8a387c80353e4032b9722efbd71d4fd2": {
          "model_module": "@jupyter-widgets/controls",
          "model_module_version": "1.5.0",
          "model_name": "DescriptionStyleModel",
          "state": {
            "_model_module": "@jupyter-widgets/controls",
            "_model_module_version": "1.5.0",
            "_model_name": "DescriptionStyleModel",
            "_view_count": null,
            "_view_module": "@jupyter-widgets/base",
            "_view_module_version": "1.2.0",
            "_view_name": "StyleView",
            "description_width": ""
          }
        },
        "955e26f9e0c6455f8ed26bee9c6abbc0": {
          "model_module": "@jupyter-widgets/base",
          "model_module_version": "1.2.0",
          "model_name": "LayoutModel",
          "state": {
            "_model_module": "@jupyter-widgets/base",
            "_model_module_version": "1.2.0",
            "_model_name": "LayoutModel",
            "_view_count": null,
            "_view_module": "@jupyter-widgets/base",
            "_view_module_version": "1.2.0",
            "_view_name": "LayoutView",
            "align_content": null,
            "align_items": null,
            "align_self": null,
            "border": null,
            "bottom": null,
            "display": null,
            "flex": null,
            "flex_flow": null,
            "grid_area": null,
            "grid_auto_columns": null,
            "grid_auto_flow": null,
            "grid_auto_rows": null,
            "grid_column": null,
            "grid_gap": null,
            "grid_row": null,
            "grid_template_areas": null,
            "grid_template_columns": null,
            "grid_template_rows": null,
            "height": null,
            "justify_content": null,
            "justify_items": null,
            "left": null,
            "margin": null,
            "max_height": null,
            "max_width": null,
            "min_height": null,
            "min_width": null,
            "object_fit": null,
            "object_position": null,
            "order": null,
            "overflow": null,
            "overflow_x": null,
            "overflow_y": null,
            "padding": null,
            "right": null,
            "top": null,
            "visibility": null,
            "width": null
          }
        },
        "995289942cd04e40a3f89c1f80179617": {
          "model_module": "@jupyter-widgets/controls",
          "model_module_version": "1.5.0",
          "model_name": "ProgressStyleModel",
          "state": {
            "_model_module": "@jupyter-widgets/controls",
            "_model_module_version": "1.5.0",
            "_model_name": "ProgressStyleModel",
            "_view_count": null,
            "_view_module": "@jupyter-widgets/base",
            "_view_module_version": "1.2.0",
            "_view_name": "StyleView",
            "bar_color": null,
            "description_width": ""
          }
        },
        "9c71f282158340838b0283bce24642a9": {
          "model_module": "@jupyter-widgets/controls",
          "model_module_version": "1.5.0",
          "model_name": "FloatProgressModel",
          "state": {
            "_dom_classes": [],
            "_model_module": "@jupyter-widgets/controls",
            "_model_module_version": "1.5.0",
            "_model_name": "FloatProgressModel",
            "_view_count": null,
            "_view_module": "@jupyter-widgets/controls",
            "_view_module_version": "1.5.0",
            "_view_name": "ProgressView",
            "bar_style": "success",
            "description": "",
            "description_tooltip": null,
            "layout": "IPY_MODEL_eee4acbd4cae4d289988f042a7ab9d99",
            "max": 929,
            "min": 0,
            "orientation": "horizontal",
            "style": "IPY_MODEL_de2b56463351420e806fd67d53bf636d",
            "value": 929
          }
        },
        "9c8e1b72b583423a8281f6300bcfd417": {
          "model_module": "@jupyter-widgets/controls",
          "model_module_version": "1.5.0",
          "model_name": "HTMLModel",
          "state": {
            "_dom_classes": [],
            "_model_module": "@jupyter-widgets/controls",
            "_model_module_version": "1.5.0",
            "_model_name": "HTMLModel",
            "_view_count": null,
            "_view_module": "@jupyter-widgets/controls",
            "_view_module_version": "1.5.0",
            "_view_name": "HTMLView",
            "description": "",
            "description_tooltip": null,
            "layout": "IPY_MODEL_b50987897546428d8509753b2667e6ea",
            "placeholder": "​",
            "style": "IPY_MODEL_82730f2264b54de09a1cf4c9968fed1c",
            "value": "merges.txt: 100%"
          }
        },
        "9efee3a7c8934d77b1377b421e9ec11d": {
          "model_module": "@jupyter-widgets/controls",
          "model_module_version": "1.5.0",
          "model_name": "HTMLModel",
          "state": {
            "_dom_classes": [],
            "_model_module": "@jupyter-widgets/controls",
            "_model_module_version": "1.5.0",
            "_model_name": "HTMLModel",
            "_view_count": null,
            "_view_module": "@jupyter-widgets/controls",
            "_view_module_version": "1.5.0",
            "_view_name": "HTMLView",
            "description": "",
            "description_tooltip": null,
            "layout": "IPY_MODEL_654b64fd7a964e92ab8d4c7784ca81ad",
            "placeholder": "​",
            "style": "IPY_MODEL_dcd28c23f1824afd92ce9be9cca21b7b",
            "value": " 501M/501M [00:08&lt;00:00, 52.1MB/s]"
          }
        },
        "a425e8185e964333a29b81e1e71ee813": {
          "model_module": "@jupyter-widgets/controls",
          "model_module_version": "1.5.0",
          "model_name": "FloatProgressModel",
          "state": {
            "_dom_classes": [],
            "_model_module": "@jupyter-widgets/controls",
            "_model_module_version": "1.5.0",
            "_model_name": "FloatProgressModel",
            "_view_count": null,
            "_view_module": "@jupyter-widgets/controls",
            "_view_module_version": "1.5.0",
            "_view_name": "ProgressView",
            "bar_style": "success",
            "description": "",
            "description_tooltip": null,
            "layout": "IPY_MODEL_408b0c2f625448abab760cdb2aced0be",
            "max": 501045531,
            "min": 0,
            "orientation": "horizontal",
            "style": "IPY_MODEL_995289942cd04e40a3f89c1f80179617",
            "value": 501045531
          }
        },
        "a74d7419343b41b99be6216d365140aa": {
          "model_module": "@jupyter-widgets/controls",
          "model_module_version": "1.5.0",
          "model_name": "DescriptionStyleModel",
          "state": {
            "_model_module": "@jupyter-widgets/controls",
            "_model_module_version": "1.5.0",
            "_model_name": "DescriptionStyleModel",
            "_view_count": null,
            "_view_module": "@jupyter-widgets/base",
            "_view_module_version": "1.2.0",
            "_view_name": "StyleView",
            "description_width": ""
          }
        },
        "a8ad2bb7417f4655981d8e148f3ed472": {
          "model_module": "@jupyter-widgets/controls",
          "model_module_version": "1.5.0",
          "model_name": "DescriptionStyleModel",
          "state": {
            "_model_module": "@jupyter-widgets/controls",
            "_model_module_version": "1.5.0",
            "_model_name": "DescriptionStyleModel",
            "_view_count": null,
            "_view_module": "@jupyter-widgets/base",
            "_view_module_version": "1.2.0",
            "_view_name": "StyleView",
            "description_width": ""
          }
        },
        "ab0ca8c0a6d647a9b48b2667e77af938": {
          "model_module": "@jupyter-widgets/controls",
          "model_module_version": "1.5.0",
          "model_name": "DescriptionStyleModel",
          "state": {
            "_model_module": "@jupyter-widgets/controls",
            "_model_module_version": "1.5.0",
            "_model_name": "DescriptionStyleModel",
            "_view_count": null,
            "_view_module": "@jupyter-widgets/base",
            "_view_module_version": "1.2.0",
            "_view_name": "StyleView",
            "description_width": ""
          }
        },
        "b50987897546428d8509753b2667e6ea": {
          "model_module": "@jupyter-widgets/base",
          "model_module_version": "1.2.0",
          "model_name": "LayoutModel",
          "state": {
            "_model_module": "@jupyter-widgets/base",
            "_model_module_version": "1.2.0",
            "_model_name": "LayoutModel",
            "_view_count": null,
            "_view_module": "@jupyter-widgets/base",
            "_view_module_version": "1.2.0",
            "_view_name": "LayoutView",
            "align_content": null,
            "align_items": null,
            "align_self": null,
            "border": null,
            "bottom": null,
            "display": null,
            "flex": null,
            "flex_flow": null,
            "grid_area": null,
            "grid_auto_columns": null,
            "grid_auto_flow": null,
            "grid_auto_rows": null,
            "grid_column": null,
            "grid_gap": null,
            "grid_row": null,
            "grid_template_areas": null,
            "grid_template_columns": null,
            "grid_template_rows": null,
            "height": null,
            "justify_content": null,
            "justify_items": null,
            "left": null,
            "margin": null,
            "max_height": null,
            "max_width": null,
            "min_height": null,
            "min_width": null,
            "object_fit": null,
            "object_position": null,
            "order": null,
            "overflow": null,
            "overflow_x": null,
            "overflow_y": null,
            "padding": null,
            "right": null,
            "top": null,
            "visibility": null,
            "width": null
          }
        },
        "b8c5417f71f4411f87976f9c776a1299": {
          "model_module": "@jupyter-widgets/controls",
          "model_module_version": "1.5.0",
          "model_name": "HTMLModel",
          "state": {
            "_dom_classes": [],
            "_model_module": "@jupyter-widgets/controls",
            "_model_module_version": "1.5.0",
            "_model_name": "HTMLModel",
            "_view_count": null,
            "_view_module": "@jupyter-widgets/controls",
            "_view_module_version": "1.5.0",
            "_view_name": "HTMLView",
            "description": "",
            "description_tooltip": null,
            "layout": "IPY_MODEL_bef295e69419463ab88fd2ee2dfd63e6",
            "placeholder": "​",
            "style": "IPY_MODEL_8a387c80353e4032b9722efbd71d4fd2",
            "value": "special_tokens_map.json: 100%"
          }
        },
        "bd0e1079340a44489c33da25d919a0a3": {
          "model_module": "@jupyter-widgets/base",
          "model_module_version": "1.2.0",
          "model_name": "LayoutModel",
          "state": {
            "_model_module": "@jupyter-widgets/base",
            "_model_module_version": "1.2.0",
            "_model_name": "LayoutModel",
            "_view_count": null,
            "_view_module": "@jupyter-widgets/base",
            "_view_module_version": "1.2.0",
            "_view_name": "LayoutView",
            "align_content": null,
            "align_items": null,
            "align_self": null,
            "border": null,
            "bottom": null,
            "display": null,
            "flex": null,
            "flex_flow": null,
            "grid_area": null,
            "grid_auto_columns": null,
            "grid_auto_flow": null,
            "grid_auto_rows": null,
            "grid_column": null,
            "grid_gap": null,
            "grid_row": null,
            "grid_template_areas": null,
            "grid_template_columns": null,
            "grid_template_rows": null,
            "height": null,
            "justify_content": null,
            "justify_items": null,
            "left": null,
            "margin": null,
            "max_height": null,
            "max_width": null,
            "min_height": null,
            "min_width": null,
            "object_fit": null,
            "object_position": null,
            "order": null,
            "overflow": null,
            "overflow_x": null,
            "overflow_y": null,
            "padding": null,
            "right": null,
            "top": null,
            "visibility": null,
            "width": null
          }
        },
        "bef295e69419463ab88fd2ee2dfd63e6": {
          "model_module": "@jupyter-widgets/base",
          "model_module_version": "1.2.0",
          "model_name": "LayoutModel",
          "state": {
            "_model_module": "@jupyter-widgets/base",
            "_model_module_version": "1.2.0",
            "_model_name": "LayoutModel",
            "_view_count": null,
            "_view_module": "@jupyter-widgets/base",
            "_view_module_version": "1.2.0",
            "_view_name": "LayoutView",
            "align_content": null,
            "align_items": null,
            "align_self": null,
            "border": null,
            "bottom": null,
            "display": null,
            "flex": null,
            "flex_flow": null,
            "grid_area": null,
            "grid_auto_columns": null,
            "grid_auto_flow": null,
            "grid_auto_rows": null,
            "grid_column": null,
            "grid_gap": null,
            "grid_row": null,
            "grid_template_areas": null,
            "grid_template_columns": null,
            "grid_template_rows": null,
            "height": null,
            "justify_content": null,
            "justify_items": null,
            "left": null,
            "margin": null,
            "max_height": null,
            "max_width": null,
            "min_height": null,
            "min_width": null,
            "object_fit": null,
            "object_position": null,
            "order": null,
            "overflow": null,
            "overflow_x": null,
            "overflow_y": null,
            "padding": null,
            "right": null,
            "top": null,
            "visibility": null,
            "width": null
          }
        },
        "bff04468775149a6b539d7d2133574e4": {
          "model_module": "@jupyter-widgets/controls",
          "model_module_version": "1.5.0",
          "model_name": "HTMLModel",
          "state": {
            "_dom_classes": [],
            "_model_module": "@jupyter-widgets/controls",
            "_model_module_version": "1.5.0",
            "_model_name": "HTMLModel",
            "_view_count": null,
            "_view_module": "@jupyter-widgets/controls",
            "_view_module_version": "1.5.0",
            "_view_name": "HTMLView",
            "description": "",
            "description_tooltip": null,
            "layout": "IPY_MODEL_c6c2fff469904ae9ad8f04bc4bcad3af",
            "placeholder": "​",
            "style": "IPY_MODEL_a8ad2bb7417f4655981d8e148f3ed472",
            "value": "pytorch_model.bin: 100%"
          }
        },
        "c6c2fff469904ae9ad8f04bc4bcad3af": {
          "model_module": "@jupyter-widgets/base",
          "model_module_version": "1.2.0",
          "model_name": "LayoutModel",
          "state": {
            "_model_module": "@jupyter-widgets/base",
            "_model_module_version": "1.2.0",
            "_model_name": "LayoutModel",
            "_view_count": null,
            "_view_module": "@jupyter-widgets/base",
            "_view_module_version": "1.2.0",
            "_view_name": "LayoutView",
            "align_content": null,
            "align_items": null,
            "align_self": null,
            "border": null,
            "bottom": null,
            "display": null,
            "flex": null,
            "flex_flow": null,
            "grid_area": null,
            "grid_auto_columns": null,
            "grid_auto_flow": null,
            "grid_auto_rows": null,
            "grid_column": null,
            "grid_gap": null,
            "grid_row": null,
            "grid_template_areas": null,
            "grid_template_columns": null,
            "grid_template_rows": null,
            "height": null,
            "justify_content": null,
            "justify_items": null,
            "left": null,
            "margin": null,
            "max_height": null,
            "max_width": null,
            "min_height": null,
            "min_width": null,
            "object_fit": null,
            "object_position": null,
            "order": null,
            "overflow": null,
            "overflow_x": null,
            "overflow_y": null,
            "padding": null,
            "right": null,
            "top": null,
            "visibility": null,
            "width": null
          }
        },
        "c9aa942afd374f82b8a9001e85ae5e47": {
          "model_module": "@jupyter-widgets/controls",
          "model_module_version": "1.5.0",
          "model_name": "DescriptionStyleModel",
          "state": {
            "_model_module": "@jupyter-widgets/controls",
            "_model_module_version": "1.5.0",
            "_model_name": "DescriptionStyleModel",
            "_view_count": null,
            "_view_module": "@jupyter-widgets/base",
            "_view_module_version": "1.2.0",
            "_view_name": "StyleView",
            "description_width": ""
          }
        },
        "cad4e693f980442cb013b676fce72029": {
          "model_module": "@jupyter-widgets/controls",
          "model_module_version": "1.5.0",
          "model_name": "HTMLModel",
          "state": {
            "_dom_classes": [],
            "_model_module": "@jupyter-widgets/controls",
            "_model_module_version": "1.5.0",
            "_model_name": "HTMLModel",
            "_view_count": null,
            "_view_module": "@jupyter-widgets/controls",
            "_view_module_version": "1.5.0",
            "_view_name": "HTMLView",
            "description": "",
            "description_tooltip": null,
            "layout": "IPY_MODEL_bd0e1079340a44489c33da25d919a0a3",
            "placeholder": "​",
            "style": "IPY_MODEL_c9aa942afd374f82b8a9001e85ae5e47",
            "value": "vocab.json: 100%"
          }
        },
        "cc3b595fa7c04a09a799786d647f2562": {
          "model_module": "@jupyter-widgets/controls",
          "model_module_version": "1.5.0",
          "model_name": "HTMLModel",
          "state": {
            "_dom_classes": [],
            "_model_module": "@jupyter-widgets/controls",
            "_model_module_version": "1.5.0",
            "_model_name": "HTMLModel",
            "_view_count": null,
            "_view_module": "@jupyter-widgets/controls",
            "_view_module_version": "1.5.0",
            "_view_name": "HTMLView",
            "description": "",
            "description_tooltip": null,
            "layout": "IPY_MODEL_955e26f9e0c6455f8ed26bee9c6abbc0",
            "placeholder": "​",
            "style": "IPY_MODEL_0dd0f68dea3d481d910337fa8c713054",
            "value": " 239/239 [00:00&lt;00:00, 15.4kB/s]"
          }
        },
        "d1b44ad2cff24612875bcb4c33666270": {
          "model_module": "@jupyter-widgets/controls",
          "model_module_version": "1.5.0",
          "model_name": "DescriptionStyleModel",
          "state": {
            "_model_module": "@jupyter-widgets/controls",
            "_model_module_version": "1.5.0",
            "_model_name": "DescriptionStyleModel",
            "_view_count": null,
            "_view_module": "@jupyter-widgets/base",
            "_view_module_version": "1.2.0",
            "_view_name": "StyleView",
            "description_width": ""
          }
        },
        "d45748a45a8f4697b46596a5e73397f9": {
          "model_module": "@jupyter-widgets/controls",
          "model_module_version": "1.5.0",
          "model_name": "ProgressStyleModel",
          "state": {
            "_model_module": "@jupyter-widgets/controls",
            "_model_module_version": "1.5.0",
            "_model_name": "ProgressStyleModel",
            "_view_count": null,
            "_view_module": "@jupyter-widgets/base",
            "_view_module_version": "1.2.0",
            "_view_name": "StyleView",
            "bar_color": null,
            "description_width": ""
          }
        },
        "d8235d7aefd74ea9af403930932436aa": {
          "model_module": "@jupyter-widgets/base",
          "model_module_version": "1.2.0",
          "model_name": "LayoutModel",
          "state": {
            "_model_module": "@jupyter-widgets/base",
            "_model_module_version": "1.2.0",
            "_model_name": "LayoutModel",
            "_view_count": null,
            "_view_module": "@jupyter-widgets/base",
            "_view_module_version": "1.2.0",
            "_view_name": "LayoutView",
            "align_content": null,
            "align_items": null,
            "align_self": null,
            "border": null,
            "bottom": null,
            "display": null,
            "flex": null,
            "flex_flow": null,
            "grid_area": null,
            "grid_auto_columns": null,
            "grid_auto_flow": null,
            "grid_auto_rows": null,
            "grid_column": null,
            "grid_gap": null,
            "grid_row": null,
            "grid_template_areas": null,
            "grid_template_columns": null,
            "grid_template_rows": null,
            "height": null,
            "justify_content": null,
            "justify_items": null,
            "left": null,
            "margin": null,
            "max_height": null,
            "max_width": null,
            "min_height": null,
            "min_width": null,
            "object_fit": null,
            "object_position": null,
            "order": null,
            "overflow": null,
            "overflow_x": null,
            "overflow_y": null,
            "padding": null,
            "right": null,
            "top": null,
            "visibility": null,
            "width": null
          }
        },
        "dcd28c23f1824afd92ce9be9cca21b7b": {
          "model_module": "@jupyter-widgets/controls",
          "model_module_version": "1.5.0",
          "model_name": "DescriptionStyleModel",
          "state": {
            "_model_module": "@jupyter-widgets/controls",
            "_model_module_version": "1.5.0",
            "_model_name": "DescriptionStyleModel",
            "_view_count": null,
            "_view_module": "@jupyter-widgets/base",
            "_view_module_version": "1.2.0",
            "_view_name": "StyleView",
            "description_width": ""
          }
        },
        "de2b56463351420e806fd67d53bf636d": {
          "model_module": "@jupyter-widgets/controls",
          "model_module_version": "1.5.0",
          "model_name": "ProgressStyleModel",
          "state": {
            "_model_module": "@jupyter-widgets/controls",
            "_model_module_version": "1.5.0",
            "_model_name": "ProgressStyleModel",
            "_view_count": null,
            "_view_module": "@jupyter-widgets/base",
            "_view_module_version": "1.2.0",
            "_view_name": "StyleView",
            "bar_color": null,
            "description_width": ""
          }
        },
        "e2b60e035aa44144b100a8577a6a48e9": {
          "model_module": "@jupyter-widgets/controls",
          "model_module_version": "1.5.0",
          "model_name": "HBoxModel",
          "state": {
            "_dom_classes": [],
            "_model_module": "@jupyter-widgets/controls",
            "_model_module_version": "1.5.0",
            "_model_name": "HBoxModel",
            "_view_count": null,
            "_view_module": "@jupyter-widgets/controls",
            "_view_module_version": "1.5.0",
            "_view_name": "HBoxView",
            "box_style": "",
            "children": [
              "IPY_MODEL_9c8e1b72b583423a8281f6300bcfd417",
              "IPY_MODEL_f9a422bd99fd464f852afa09484e8a09",
              "IPY_MODEL_18bd1f5fdc9a490f8afe955a393bf850"
            ],
            "layout": "IPY_MODEL_167337dcd4ea4841935a7328374a86b3"
          }
        },
        "e4781dde4793469db47c41ecbab46fdc": {
          "model_module": "@jupyter-widgets/controls",
          "model_module_version": "1.5.0",
          "model_name": "HBoxModel",
          "state": {
            "_dom_classes": [],
            "_model_module": "@jupyter-widgets/controls",
            "_model_module_version": "1.5.0",
            "_model_name": "HBoxModel",
            "_view_count": null,
            "_view_module": "@jupyter-widgets/controls",
            "_view_module_version": "1.5.0",
            "_view_name": "HBoxView",
            "box_style": "",
            "children": [
              "IPY_MODEL_b8c5417f71f4411f87976f9c776a1299",
              "IPY_MODEL_18e153d1f6c24c38ad81d782d3c9509a",
              "IPY_MODEL_cc3b595fa7c04a09a799786d647f2562"
            ],
            "layout": "IPY_MODEL_49b7cc2b49744f539075780e4f44903f"
          }
        },
        "eee4acbd4cae4d289988f042a7ab9d99": {
          "model_module": "@jupyter-widgets/base",
          "model_module_version": "1.2.0",
          "model_name": "LayoutModel",
          "state": {
            "_model_module": "@jupyter-widgets/base",
            "_model_module_version": "1.2.0",
            "_model_name": "LayoutModel",
            "_view_count": null,
            "_view_module": "@jupyter-widgets/base",
            "_view_module_version": "1.2.0",
            "_view_name": "LayoutView",
            "align_content": null,
            "align_items": null,
            "align_self": null,
            "border": null,
            "bottom": null,
            "display": null,
            "flex": null,
            "flex_flow": null,
            "grid_area": null,
            "grid_auto_columns": null,
            "grid_auto_flow": null,
            "grid_auto_rows": null,
            "grid_column": null,
            "grid_gap": null,
            "grid_row": null,
            "grid_template_areas": null,
            "grid_template_columns": null,
            "grid_template_rows": null,
            "height": null,
            "justify_content": null,
            "justify_items": null,
            "left": null,
            "margin": null,
            "max_height": null,
            "max_width": null,
            "min_height": null,
            "min_width": null,
            "object_fit": null,
            "object_position": null,
            "order": null,
            "overflow": null,
            "overflow_x": null,
            "overflow_y": null,
            "padding": null,
            "right": null,
            "top": null,
            "visibility": null,
            "width": null
          }
        },
        "f9a422bd99fd464f852afa09484e8a09": {
          "model_module": "@jupyter-widgets/controls",
          "model_module_version": "1.5.0",
          "model_name": "FloatProgressModel",
          "state": {
            "_dom_classes": [],
            "_model_module": "@jupyter-widgets/controls",
            "_model_module_version": "1.5.0",
            "_model_name": "FloatProgressModel",
            "_view_count": null,
            "_view_module": "@jupyter-widgets/controls",
            "_view_module_version": "1.5.0",
            "_view_name": "ProgressView",
            "bar_style": "success",
            "description": "",
            "description_tooltip": null,
            "layout": "IPY_MODEL_7ee8c475fe664882922b528a3e6bfab2",
            "max": 456318,
            "min": 0,
            "orientation": "horizontal",
            "style": "IPY_MODEL_fba578b4055d4a9da5030660f988a476",
            "value": 456318
          }
        },
        "faff5791ba19485a878e47a2f1dcee99": {
          "model_module": "@jupyter-widgets/controls",
          "model_module_version": "1.5.0",
          "model_name": "HBoxModel",
          "state": {
            "_dom_classes": [],
            "_model_module": "@jupyter-widgets/controls",
            "_model_module_version": "1.5.0",
            "_model_name": "HBoxModel",
            "_view_count": null,
            "_view_module": "@jupyter-widgets/controls",
            "_view_module_version": "1.5.0",
            "_view_name": "HBoxView",
            "box_style": "",
            "children": [
              "IPY_MODEL_cad4e693f980442cb013b676fce72029",
              "IPY_MODEL_49eb4727326e495782cc6b2b77972efd",
              "IPY_MODEL_3b4a59316b4a47e3959c04f59dabf298"
            ],
            "layout": "IPY_MODEL_d8235d7aefd74ea9af403930932436aa"
          }
        },
        "fba578b4055d4a9da5030660f988a476": {
          "model_module": "@jupyter-widgets/controls",
          "model_module_version": "1.5.0",
          "model_name": "ProgressStyleModel",
          "state": {
            "_model_module": "@jupyter-widgets/controls",
            "_model_module_version": "1.5.0",
            "_model_name": "ProgressStyleModel",
            "_view_count": null,
            "_view_module": "@jupyter-widgets/base",
            "_view_module_version": "1.2.0",
            "_view_name": "StyleView",
            "bar_color": null,
            "description_width": ""
          }
        }
      }
    }
  },
  "nbformat": 4,
  "nbformat_minor": 0
}
